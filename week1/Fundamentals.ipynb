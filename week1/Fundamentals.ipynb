{
 "cells": [
  {
   "cell_type": "markdown",
   "metadata": {},
   "source": [
    "# DATA STRUCTURES"
   ]
  },
  {
   "cell_type": "markdown",
   "metadata": {},
   "source": [
    "### Primitive Data Structures\n",
    "- Integer\n",
    "- Float\n",
    "- String \n",
    "- Boolean"
   ]
  },
  {
   "cell_type": "markdown",
   "metadata": {},
   "source": [
    "##### Integer"
   ]
  },
  {
   "cell_type": "code",
   "execution_count": 1,
   "metadata": {},
   "outputs": [
    {
     "name": "stdout",
     "output_type": "stream",
     "text": [
      "2\n",
      "Type of a:  <class 'int'>\n"
     ]
    }
   ],
   "source": [
    "a = 2\n",
    "print(a)\n",
    "print('Type of a: ',type(a))"
   ]
  },
  {
   "cell_type": "markdown",
   "metadata": {},
   "source": [
    "##### Float"
   ]
  },
  {
   "cell_type": "code",
   "execution_count": 2,
   "metadata": {},
   "outputs": [
    {
     "name": "stdout",
     "output_type": "stream",
     "text": [
      "<class 'float'>\n"
     ]
    }
   ],
   "source": [
    "#Float\n",
    "b = 32.3\n",
    "c = 1e-3 #0.001\n",
    "print(type(c))"
   ]
  },
  {
   "cell_type": "markdown",
   "metadata": {},
   "source": [
    "##### String"
   ]
  },
  {
   "cell_type": "code",
   "execution_count": 3,
   "metadata": {},
   "outputs": [
    {
     "name": "stdout",
     "output_type": "stream",
     "text": [
      "Data type of name1 variable:  <class 'str'>\n",
      "Estü\n"
     ]
    }
   ],
   "source": [
    "# String\n",
    "name1 = 'V'\n",
    "name2 = 'Estü'\n",
    "name3 = \"Estü\"\n",
    "name4 = \"\"\"Estü\"\"\"\n",
    "print(\"Data type of name1 variable: \",type(name1))\n",
    "print(name3)"
   ]
  },
  {
   "cell_type": "markdown",
   "metadata": {},
   "source": [
    "#### What is Immutable in Python?"
   ]
  },
  {
   "cell_type": "code",
   "execution_count": 4,
   "metadata": {},
   "outputs": [
    {
     "ename": "TypeError",
     "evalue": "'str' object does not support item assignment",
     "output_type": "error",
     "traceback": [
      "\u001b[0;31m---------------------------------------------------------------------------\u001b[0m",
      "\u001b[0;31mTypeError\u001b[0m                                 Traceback (most recent call last)",
      "\u001b[1;32m/home/burak/Estü-Teknotam/week1/fundamentals.ipynb Cell 10'\u001b[0m in \u001b[0;36m<cell line: 2>\u001b[0;34m()\u001b[0m\n\u001b[1;32m      <a href='vscode-notebook-cell:/home/burak/Est%C3%BC-Teknotam/week1/fundamentals.ipynb#ch0000009?line=0'>1</a>\u001b[0m name1 \u001b[39m=\u001b[39m \u001b[39m'\u001b[39m\u001b[39mVarun\u001b[39m\u001b[39m'\u001b[39m\n\u001b[0;32m----> <a href='vscode-notebook-cell:/home/burak/Est%C3%BC-Teknotam/week1/fundamentals.ipynb#ch0000009?line=1'>2</a>\u001b[0m name1[\u001b[39m0\u001b[39m] \u001b[39m=\u001b[39m \u001b[39m'\u001b[39m\u001b[39mH\u001b[39m\u001b[39m'\u001b[39m\n",
      "\u001b[0;31mTypeError\u001b[0m: 'str' object does not support item assignment"
     ]
    }
   ],
   "source": [
    "name1 = 'Varun'\n",
    "name1[0] = 'H'"
   ]
  },
  {
   "cell_type": "code",
   "execution_count": 5,
   "metadata": {},
   "outputs": [],
   "source": [
    "name1 = 'Harun'\n",
    "name1 = 'Varun'"
   ]
  },
  {
   "cell_type": "code",
   "execution_count": 8,
   "metadata": {},
   "outputs": [
    {
     "name": "stdout",
     "output_type": "stream",
     "text": [
      "id of name1:  140005537166704\n",
      "id of name2:  140005164418992\n"
     ]
    }
   ],
   "source": [
    "name_1 = 'Varun'\n",
    "name_2 = 'Varun'\n",
    "print(\"id of name1: \",id(name1))\n",
    "print(\"id of name2: \",id(name2))"
   ]
  },
  {
   "cell_type": "code",
   "execution_count": 9,
   "metadata": {},
   "outputs": [
    {
     "name": "stdout",
     "output_type": "stream",
     "text": [
      "id of name_1 = 140005165152880\n",
      "id of name_1 after initialing with new value =  140005537166704\n"
     ]
    }
   ],
   "source": [
    "name_1 = \"Harun\"\n",
    "print(f\"id of name_1 = {id(name_1)}\")\n",
    "name_1 = \"Varun\"\n",
    "print(f\"id of name_1 after initialing with new value = \",id(name_1))"
   ]
  },
  {
   "cell_type": "markdown",
   "metadata": {},
   "source": [
    "##### Boolean"
   ]
  },
  {
   "cell_type": "code",
   "execution_count": 10,
   "metadata": {},
   "outputs": [
    {
     "name": "stdout",
     "output_type": "stream",
     "text": [
      "<class 'bool'>\n"
     ]
    }
   ],
   "source": [
    "is_finish = False\n",
    "print(type(is_finish))"
   ]
  },
  {
   "cell_type": "markdown",
   "metadata": {},
   "source": [
    "### Non-Primitive Data Structures\n",
    "- List\n",
    "- Tuple\n",
    "- Set\n",
    "- Dictionary"
   ]
  },
  {
   "cell_type": "markdown",
   "metadata": {},
   "source": [
    "##### List"
   ]
  },
  {
   "cell_type": "code",
   "execution_count": 11,
   "metadata": {},
   "outputs": [
    {
     "name": "stdout",
     "output_type": "stream",
     "text": [
      "Names:  ['Ahmet', 'Mehmet', 'Mahmut']\n",
      "Cars:  [1, 'ahmet', 3.2]\n"
     ]
    }
   ],
   "source": [
    "names = ['Ahmet','Mehmet','Mahmut']\n",
    "print(\"Names: \",names)\n",
    "cars = [1,'ahmet',3.2]\n",
    "print(\"Cars: \",cars)"
   ]
  },
  {
   "cell_type": "code",
   "execution_count": 9,
   "metadata": {},
   "outputs": [
    {
     "name": "stdout",
     "output_type": "stream",
     "text": [
      "After append:  ['Ahmet', 'Elif', 'Mahmut', 'Veli']\n",
      "Number of elements in list:  4\n",
      "Number of Veli in names:  1\n",
      "After insert:  ['Burak', 'Ahmet', 'Elif', 'Mahmut', 'Veli']\n",
      "Names:  ['Burak', 'Ahmet', 'Elif', 'Mahmut', 'Veli', 'Zehra']\n",
      "Names_v2:  ['Burak', 'Ahmet', 'Elif', 'Mahmut', 'Veli']\n",
      "[]\n"
     ]
    }
   ],
   "source": [
    "#Some list Functions\n",
    "my_list = ['Ahmet','Elif','Mahmut']\n",
    "\n",
    "my_list.append(\"Veli\")\n",
    "print(\"After append: \",my_list)\n",
    "\n",
    "number_of_list = len(my_list)\n",
    "print(\"Number of elements in list: \",number_of_list)\n",
    "\n",
    "print(\"Number of Veli in names: \",my_list.count(\"Veli\"))\n",
    "\n",
    "my_list.insert(0,\"Burak\")\n",
    "print(\"After insert: \",my_list)\n",
    "\n",
    "my_list_v2 = my_list.copy()\n",
    "my_list.append(\"Zehra\")\n",
    "print(\"Names_v2: \",my_list_v2)\n",
    "print(\"Names: \",my_list)\n",
    "\n",
    "my_list.clear()\n",
    "print(my_list)\n"
   ]
  },
  {
   "cell_type": "markdown",
   "metadata": {},
   "source": [
    "##### Tuple\n",
    "- ordered\n",
    "- unchangeable \n",
    "- allow duplicate values"
   ]
  },
  {
   "cell_type": "code",
   "execution_count": 12,
   "metadata": {},
   "outputs": [
    {
     "name": "stdout",
     "output_type": "stream",
     "text": [
      "<class 'tuple'>\n"
     ]
    }
   ],
   "source": [
    "my_tuple = (10,20,30,40,\"Ahmet\")\n",
    "print(type(my_tuple))"
   ]
  },
  {
   "cell_type": "code",
   "execution_count": 13,
   "metadata": {},
   "outputs": [
    {
     "name": "stdout",
     "output_type": "stream",
     "text": [
      "First element of my_tuple:  10\n"
     ]
    }
   ],
   "source": [
    "print(\"First element of my_tuple: \",my_tuple[0])"
   ]
  },
  {
   "cell_type": "code",
   "execution_count": 14,
   "metadata": {},
   "outputs": [
    {
     "ename": "TypeError",
     "evalue": "'tuple' object does not support item assignment",
     "output_type": "error",
     "traceback": [
      "\u001b[0;31m---------------------------------------------------------------------------\u001b[0m",
      "\u001b[0;31mTypeError\u001b[0m                                 Traceback (most recent call last)",
      "\u001b[1;32m/home/burak/Estü-Teknotam/week1/fundamentals.ipynb Cell 23'\u001b[0m in \u001b[0;36m<cell line: 1>\u001b[0;34m()\u001b[0m\n\u001b[0;32m----> <a href='vscode-notebook-cell:/home/burak/Est%C3%BC-Teknotam/week1/fundamentals.ipynb#ch0000022?line=0'>1</a>\u001b[0m my_tuple[\u001b[39m0\u001b[39m] \u001b[39m=\u001b[39m \u001b[39m\"\u001b[39m\u001b[39mSamet\u001b[39m\u001b[39m\"\u001b[39m\n",
      "\u001b[0;31mTypeError\u001b[0m: 'tuple' object does not support item assignment"
     ]
    }
   ],
   "source": [
    "my_tuple[0] = \"Samet\""
   ]
  },
  {
   "cell_type": "markdown",
   "metadata": {},
   "source": [
    "##### Set\n",
    "- unordered\n",
    "- unchangeable\n",
    "- duplicates not allowed"
   ]
  },
  {
   "cell_type": "code",
   "execution_count": 26,
   "metadata": {},
   "outputs": [
    {
     "name": "stdout",
     "output_type": "stream",
     "text": [
      "Type of set:  <class 'set'>\n",
      "my_set:  {1, 'Ahmet', 'Ayşe'}\n"
     ]
    }
   ],
   "source": [
    "my_set = {\"Ahmet\",1,\"Ayşe\"}\n",
    "print(\"Type of set: \",type(my_set))\n",
    "print(\"my_set: \",my_set)"
   ]
  },
  {
   "cell_type": "code",
   "execution_count": 16,
   "metadata": {},
   "outputs": [
    {
     "ename": "TypeError",
     "evalue": "'set' object is not subscriptable",
     "output_type": "error",
     "traceback": [
      "\u001b[0;31m---------------------------------------------------------------------------\u001b[0m",
      "\u001b[0;31mTypeError\u001b[0m                                 Traceback (most recent call last)",
      "\u001b[1;32m/home/burak/Estü-Teknotam/week1/fundamentals.ipynb Cell 26'\u001b[0m in \u001b[0;36m<cell line: 1>\u001b[0;34m()\u001b[0m\n\u001b[0;32m----> <a href='vscode-notebook-cell:/home/burak/Est%C3%BC-Teknotam/week1/fundamentals.ipynb#ch0000025?line=0'>1</a>\u001b[0m \u001b[39mprint\u001b[39m(my_set[\u001b[39m0\u001b[39;49m])\n",
      "\u001b[0;31mTypeError\u001b[0m: 'set' object is not subscriptable"
     ]
    }
   ],
   "source": [
    "print(my_set[0])"
   ]
  },
  {
   "cell_type": "code",
   "execution_count": 17,
   "metadata": {},
   "outputs": [
    {
     "name": "stdout",
     "output_type": "stream",
     "text": [
      "{'ahmet', 'burak'}\n"
     ]
    }
   ],
   "source": [
    "my_set = {\"burak\",\"ahmet\",\"burak\"}\n",
    "print(my_set)"
   ]
  },
  {
   "cell_type": "markdown",
   "metadata": {},
   "source": [
    "#### Dictionaries\n",
    "- Ordered(Python 3.7) and Unordered(Python 3.6 and earlier)\n",
    "- Changeable \n",
    "- Duplicates not allowed(Dictionaries cannot have two items with the same key)\n"
   ]
  },
  {
   "cell_type": "code",
   "execution_count": 19,
   "metadata": {},
   "outputs": [
    {
     "name": "stdout",
     "output_type": "stream",
     "text": [
      "Type:  <class 'dict'>\n",
      "My dict:  {'brand': 'Ford', 'model': 'Mustang', 'year': 1964}\n",
      "Mustang\n"
     ]
    }
   ],
   "source": [
    "my_dict = {\"brand\": \"Ford\", \"model\": \"Mustang\", \"year\": 1964}\n",
    "print(\"Type: \",type(my_dict))\n",
    "print(\"My dict: \",my_dict)\n",
    "print(my_dict[\"model\"])"
   ]
  },
  {
   "cell_type": "code",
   "execution_count": 20,
   "metadata": {},
   "outputs": [
    {
     "name": "stdout",
     "output_type": "stream",
     "text": [
      "My dict:  {'brand': 'Ford', 'model': 'Fiesta', 'year': 2010}\n"
     ]
    }
   ],
   "source": [
    "# Changeable\n",
    "my_dict.update({\"model\": \"Fiesta\", \"year\":2010})\n",
    "print(\"My dict: \",my_dict)"
   ]
  },
  {
   "cell_type": "code",
   "execution_count": 21,
   "metadata": {},
   "outputs": [
    {
     "name": "stdout",
     "output_type": "stream",
     "text": [
      "My dict:  {'brand': 'Ford', 'model': 'Mustang', 'year': 2010}\n"
     ]
    }
   ],
   "source": [
    "# changeable\n",
    "my_dict[\"model\"] = \"Mustang\"\n",
    "print(\"My dict: \",my_dict)"
   ]
  },
  {
   "cell_type": "code",
   "execution_count": 22,
   "metadata": {},
   "outputs": [
    {
     "name": "stdout",
     "output_type": "stream",
     "text": [
      "My dict:  {'brand': 'Ford', 'model': 'Mustang', 'year': 2010}\n"
     ]
    }
   ],
   "source": [
    "#Duplicates not allowed\n",
    "my_dict = {\"brand\": \"Ford\", \"model\": \"Mustang\", \"year\": 1964,\"year\":2010}\n",
    "print(\"My dict: \",my_dict)"
   ]
  },
  {
   "cell_type": "markdown",
   "metadata": {},
   "source": [
    "# Conditional Executions\n"
   ]
  },
  {
   "cell_type": "code",
   "execution_count": 23,
   "metadata": {},
   "outputs": [
    {
     "name": "stdout",
     "output_type": "stream",
     "text": [
      "Loss value is between 10 and 50.\n"
     ]
    }
   ],
   "source": [
    "loss = 10\n",
    "\n",
    "if loss < 10:\n",
    "    print(\"Loss is lower than 10.\")\n",
    "elif loss > 10 and loss < 50:\n",
    "    print(\"Loss value is between 10 and 50.\")\n",
    "else:\n",
    "    print(\"Loss is greater than 50.\")"
   ]
  },
  {
   "cell_type": "markdown",
   "metadata": {},
   "source": [
    "# Loop\n",
    "- For\n",
    "- While"
   ]
  },
  {
   "cell_type": "code",
   "execution_count": 24,
   "metadata": {},
   "outputs": [
    {
     "name": "stdout",
     "output_type": "stream",
     "text": [
      "10\n",
      "20\n",
      "30\n",
      "40\n"
     ]
    }
   ],
   "source": [
    "my_list = [10,20,30,40]\n",
    "for x in my_list:\n",
    "    print(x)"
   ]
  },
  {
   "cell_type": "code",
   "execution_count": 25,
   "metadata": {},
   "outputs": [
    {
     "name": "stdout",
     "output_type": "stream",
     "text": [
      "10\n",
      "11\n",
      "12\n",
      "13\n",
      "14\n",
      "15\n",
      "16\n",
      "17\n",
      "18\n",
      "19\n"
     ]
    }
   ],
   "source": [
    "for i in range(10,20):\n",
    "    print(i)"
   ]
  },
  {
   "cell_type": "code",
   "execution_count": 23,
   "metadata": {},
   "outputs": [
    {
     "name": "stdout",
     "output_type": "stream",
     "text": [
      "5\n",
      "10\n",
      "15\n"
     ]
    }
   ],
   "source": [
    "a = 5\n",
    "while a < 20:\n",
    "    print(a)\n",
    "    a = a + 5"
   ]
  },
  {
   "cell_type": "markdown",
   "metadata": {},
   "source": [
    "# File Handling\n"
   ]
  },
  {
   "cell_type": "code",
   "execution_count": null,
   "metadata": {},
   "outputs": [],
   "source": [
    "f = open(\"test.txt\") # open file in current directory, r mode\n",
    "f = open(\"test.txt\",'w') # write text mode\n",
    "f = open(\"test.txt\",'a') # append mode\n",
    "f = open(\"text.txt\",'r+b') # read and write in binary mode\n",
    "\n",
    "f.close() # close the file"
   ]
  },
  {
   "cell_type": "code",
   "execution_count": null,
   "metadata": {},
   "outputs": [],
   "source": [
    "with open(\"test.txt\") as f:\n",
    "    # perform file operations\n",
    "\n"
   ]
  }
 ],
 "metadata": {
  "interpreter": {
   "hash": "916dbcbb3f70747c44a77c7bcd40155683ae19c65e1c03b4aa3499c5328201f1"
  },
  "kernelspec": {
   "display_name": "Python 3.8.10 64-bit",
   "language": "python",
   "name": "python3"
  },
  "language_info": {
   "codemirror_mode": {
    "name": "ipython",
    "version": 3
   },
   "file_extension": ".py",
   "mimetype": "text/x-python",
   "name": "python",
   "nbconvert_exporter": "python",
   "pygments_lexer": "ipython3",
   "version": "3.8.10"
  },
  "orig_nbformat": 4
 },
 "nbformat": 4,
 "nbformat_minor": 2
}
