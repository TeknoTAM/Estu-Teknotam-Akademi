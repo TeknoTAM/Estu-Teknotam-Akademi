{
 "cells": [
  {
   "cell_type": "markdown",
   "metadata": {},
   "source": [
    "# Iterators in Python\n",
    "- The for loop does all this under the hood, thus, you do not need to explicitly call the iter() and next() functions. "
   ]
  },
  {
   "cell_type": "code",
   "execution_count": 1,
   "metadata": {},
   "outputs": [
    {
     "name": "stdout",
     "output_type": "stream",
     "text": [
      "1\n",
      "2\n",
      "0\n"
     ]
    }
   ],
   "source": [
    "\n",
    "# define a iterable such as a list\n",
    "list1 = [1, 2, 0]\n",
    "# get an iterator using iter()\n",
    "iter1 = iter(list1)\n",
    "# iterate through it using next()\n",
    "print(next(iter1))\n",
    "# next(obj) is same as obj.__next__()\n",
    "print(iter1.__next__())\n",
    "print(next(iter1))"
   ]
  },
  {
   "cell_type": "code",
   "execution_count": 2,
   "metadata": {},
   "outputs": [
    {
     "name": "stdout",
     "output_type": "stream",
     "text": [
      "10\n",
      "11\n",
      "12\n",
      "13\n",
      "14\n",
      "15\n"
     ]
    }
   ],
   "source": [
    "class Test:\n",
    "\n",
    "    # Constructor\n",
    "    def __init__(self,limit):\n",
    "        self.limit = limit\n",
    "\n",
    "    # Creates iterator object\n",
    "    # called when iteration is initialized\n",
    "    def __iter__(self):\n",
    "        self.x = 10\n",
    "        return self\n",
    "\n",
    "    def __next__(self):\n",
    "        x = self.x\n",
    "\n",
    "        # Stop iteration if limit is reached.\n",
    "        if x > self.limit:\n",
    "            raise StopIteration\n",
    "\n",
    "        self.x = x + 1\n",
    "        return x\n",
    "\n",
    "# Prints numbers from 10 to 15\n",
    "for i in Test(15):\n",
    "    print(i)"
   ]
  },
  {
   "cell_type": "markdown",
   "metadata": {},
   "source": [
    "# Generators in Python"
   ]
  },
  {
   "cell_type": "code",
   "execution_count": 3,
   "metadata": {},
   "outputs": [
    {
     "name": "stdout",
     "output_type": "stream",
     "text": [
      "This is printed first\n",
      "1\n",
      "This is printed second\n",
      "2\n",
      "This is printed at last\n",
      "3\n"
     ]
    }
   ],
   "source": [
    "def my_gen():\n",
    "    n = 1\n",
    "    print('This is printed first')\n",
    "    # Generator function contains yield statements\n",
    "    yield n\n",
    "\n",
    "    n += 1\n",
    "    print('This is printed second')\n",
    "    yield n\n",
    "\n",
    "    n += 1\n",
    "    print('This is printed at last')\n",
    "    yield n\n",
    "\n",
    "\n",
    "# Using for loop\n",
    "for item in my_gen():\n",
    "    print(item)"
   ]
  },
  {
   "cell_type": "code",
   "execution_count": 4,
   "metadata": {},
   "outputs": [
    {
     "name": "stdout",
     "output_type": "stream",
     "text": [
      "Received on next():  0\n",
      "Received on next():  1\n",
      "Received on next():  2\n",
      "Received on next():  3\n",
      "Received on next():  4\n"
     ]
    }
   ],
   "source": [
    "\n",
    "def get_sequence_upto(x):\n",
    "    for i in range(x):\n",
    "        yield i\n",
    "\n",
    "\n",
    "seq = get_sequence_upto(5) \n",
    "# next(seq) \n",
    "# next(seq) \n",
    "# next(seq) \n",
    "# next(seq) \n",
    "# next(seq) \n",
    "# next(seq)        \n",
    "\n",
    "\n",
    "while True:\n",
    "    try:\n",
    "        print (\"Received on next(): \", next(seq))\n",
    "    except StopIteration:\n",
    "        break"
   ]
  },
  {
   "cell_type": "markdown",
   "metadata": {},
   "source": [
    "# Decorators in Python\n",
    "- You'll use a decorator when you need to change the behavior of a function without modifying the function itself. \n"
   ]
  },
  {
   "cell_type": "code",
   "execution_count": 5,
   "metadata": {},
   "outputs": [
    {
     "name": "stdout",
     "output_type": "stream",
     "text": [
      "I came from the inner function.\n"
     ]
    }
   ],
   "source": [
    "\"\"\"A function can be nested within another function.\"\"\"\n",
    "\n",
    "def outer_function():\n",
    "\n",
    "    def inner_function():\n",
    "        print('I came from the inner function.')\n",
    "\n",
    "    inner_function()\n",
    "\n",
    "outer_function()"
   ]
  },
  {
   "cell_type": "code",
   "execution_count": 6,
   "metadata": {},
   "outputs": [
    {
     "name": "stdout",
     "output_type": "stream",
     "text": [
      "Read Python book chapter 3.\n"
     ]
    }
   ],
   "source": [
    "\"\"\"Since a function can be nested inside another function it can also be returned.\"\"\"\n",
    "\n",
    "def outer_function():\n",
    "\n",
    "    task = 'Read Python book chapter 3.'\n",
    "    def inner_function():\n",
    "        print(task)\n",
    "    return inner_function\n",
    "\n",
    "homework = outer_function()\n",
    "homework()"
   ]
  },
  {
   "cell_type": "code",
   "execution_count": 8,
   "metadata": {},
   "outputs": [
    {
     "name": "stdout",
     "output_type": "stream",
     "text": [
      "I am going to the store buy you something nice.\n",
      "Don't forget to bring your wallet!\n"
     ]
    }
   ],
   "source": [
    "\"\"\"A function can be passed to another function as an argument.\"\"\"\n",
    "\n",
    "def friendly_reminder(func):\n",
    "    '''Reminder for husband'''\n",
    "\n",
    "    func()\n",
    "    print('Don\\'t forget to bring your wallet!')\n",
    "\n",
    "def action():\n",
    "\n",
    "    print('I am going to the store buy you something nice.')\n",
    "\n",
    "\n",
    "friendly_reminder(action)\n"
   ]
  },
  {
   "cell_type": "code",
   "execution_count": 9,
   "metadata": {},
   "outputs": [
    {
     "name": "stdout",
     "output_type": "stream",
     "text": [
      "Inner function is called.\n",
      "My func is called.\n",
      "Argument function is called.\n",
      "my_func\n",
      "My func docs\n"
     ]
    }
   ],
   "source": [
    "\"\"\"How to Create a Python Decorator\"\"\"\n",
    "\n",
    "from functools import wraps\n",
    "\n",
    "\n",
    "def my_decorator_func(func):\n",
    "    \"\"\"My decorator func\"\"\"\n",
    "    \n",
    "    @wraps(func)\n",
    "    def wrapper_func():\n",
    "        print(\"Inner function is called.\")\n",
    "        func()\n",
    "        print(\"Argument function is called.\")    \n",
    "    return wrapper_func\n",
    "\n",
    "\n",
    "@my_decorator_func\n",
    "def my_func():\n",
    "    \"\"\"My func docs\"\"\"\n",
    "    print(\"My func is called.\")\n",
    "\n",
    "\n",
    "my_func()\n",
    "\n",
    "print(my_func.__name__)\n",
    "print(my_func.__doc__)"
   ]
  },
  {
   "cell_type": "code",
   "execution_count": 10,
   "metadata": {},
   "outputs": [
    {
     "name": "stdout",
     "output_type": "stream",
     "text": [
      "Function: make_list1\n",
      "Method: Range\n",
      "Memory usage:\t\t 0.000818 MB \n",
      "Peak memory usage:\t 3.593400 MB \n",
      "Time elapsed is seconds: 0.027625\n",
      "----------------------------------------\n",
      "None\n",
      "Function: make_list2\n",
      "Method: List comprehension\n",
      "Memory usage:\t\t 0.001283 MB \n",
      "Peak memory usage:\t 3.618671 MB \n",
      "Time elapsed is seconds: 0.027258\n",
      "----------------------------------------\n",
      "None\n",
      "Function: make_list3\n",
      "Method: Append\n",
      "Memory usage:\t\t 0.000723 MB \n",
      "Peak memory usage:\t 3.617975 MB \n",
      "Time elapsed is seconds: 0.031202\n",
      "----------------------------------------\n",
      "None\n",
      "Function: make_list4\n",
      "Method: Concatenation\n",
      "Memory usage:\t\t 0.000865 MB \n",
      "Peak memory usage:\t 4.393717 MB \n",
      "Time elapsed is seconds: 13.945550\n",
      "----------------------------------------\n",
      "None\n"
     ]
    }
   ],
   "source": [
    "from functools import wraps\n",
    "import tracemalloc\n",
    "from time import perf_counter\n",
    "\n",
    "\n",
    "def measure_performance(func):\n",
    "    '''Measure performance of a function'''\n",
    "\n",
    "    @wraps(func)\n",
    "    def wrapper(*args,**kwargs):\n",
    "        tracemalloc.start()\n",
    "        start_time = perf_counter()\n",
    "        func(*args, **kwargs)\n",
    "        current, peak = tracemalloc.get_traced_memory()\n",
    "        finish_time = perf_counter()\n",
    "        print(f'Function: {func.__name__}')\n",
    "        print(f'Method: {func.__doc__}')\n",
    "        print(f'Memory usage:\\t\\t {current / 10**6:.6f} MB \\n' f'Peak memory usage:\\t {peak / 10**6:.6f} MB ')\n",
    "        print(f'Time elapsed is seconds: {finish_time - start_time:.6f}')\n",
    "        print(f'{\"-\"*40}')\n",
    "        tracemalloc.stop()\n",
    "    \n",
    "    return wrapper\n",
    "\n",
    "@measure_performance\n",
    "def make_list1():\n",
    "    '''Range'''\n",
    "\n",
    "    my_list = list(range(100000))\n",
    "\n",
    "\n",
    "@measure_performance\n",
    "def make_list2():\n",
    "    '''List comprehension'''\n",
    "\n",
    "    my_list = [l for l in range(100000)]\n",
    "\n",
    "\n",
    "@measure_performance\n",
    "def make_list3():\n",
    "    '''Append'''\n",
    "\n",
    "    my_list = []\n",
    "    for item in range(100000):\n",
    "        my_list.append(item)\n",
    "\n",
    "\n",
    "@measure_performance\n",
    "def make_list4():\n",
    "    '''Concatenation'''\n",
    "\n",
    "    my_list = []\n",
    "    for item in range(100000):\n",
    "        my_list = my_list + [item]\n",
    "\n",
    "\n",
    "print(make_list1())\n",
    "print(make_list2())\n",
    "print(make_list3())\n",
    "print(make_list4())"
   ]
  }
 ],
 "metadata": {
  "interpreter": {
   "hash": "916dbcbb3f70747c44a77c7bcd40155683ae19c65e1c03b4aa3499c5328201f1"
  },
  "kernelspec": {
   "display_name": "Python 3.8.10 64-bit",
   "language": "python",
   "name": "python3"
  },
  "language_info": {
   "codemirror_mode": {
    "name": "ipython",
    "version": 3
   },
   "file_extension": ".py",
   "mimetype": "text/x-python",
   "name": "python",
   "nbconvert_exporter": "python",
   "pygments_lexer": "ipython3",
   "version": "3.8.10"
  },
  "orig_nbformat": 4
 },
 "nbformat": 4,
 "nbformat_minor": 2
}
