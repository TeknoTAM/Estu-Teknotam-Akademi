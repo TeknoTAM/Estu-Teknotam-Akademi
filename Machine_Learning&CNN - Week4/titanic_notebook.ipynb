{
 "cells": [
  {
   "cell_type": "code",
   "execution_count": 1,
   "metadata": {},
   "outputs": [],
   "source": [
    "import numpy as np\n",
    "import pandas as pd\n",
    "\n",
    "import matplotlib.pyplot as plt\n",
    "import seaborn as sns\n",
    "sns.set(style=\"darkgrid\")\n",
    "\n",
    "from sklearn.ensemble import RandomForestClassifier\n",
    "from sklearn.preprocessing import OneHotEncoder, LabelEncoder, StandardScaler\n",
    "from sklearn.metrics import roc_curve, auc\n",
    "from sklearn.model_selection import StratifiedKFold\n",
    "\n",
    "import warnings\n",
    "warnings.filterwarnings('ignore')\n",
    "\n",
    "SEED = 42"
   ]
  },
  {
   "cell_type": "code",
   "execution_count": 2,
   "metadata": {},
   "outputs": [],
   "source": [
    "df_train = pd.read_csv(\"titanic_dataset/train.csv\")\n",
    "df_test = pd.read_csv(\"titanic_dataset/test.csv\")\n",
    "df_all = pd.concat([df_train, df_test], sort=True).reset_index(drop=True)\n",
    "combine = [df_train,df_test]"
   ]
  },
  {
   "cell_type": "code",
   "execution_count": 3,
   "metadata": {},
   "outputs": [
    {
     "data": {
      "text/html": [
       "<div>\n",
       "<style scoped>\n",
       "    .dataframe tbody tr th:only-of-type {\n",
       "        vertical-align: middle;\n",
       "    }\n",
       "\n",
       "    .dataframe tbody tr th {\n",
       "        vertical-align: top;\n",
       "    }\n",
       "\n",
       "    .dataframe thead th {\n",
       "        text-align: right;\n",
       "    }\n",
       "</style>\n",
       "<table border=\"1\" class=\"dataframe\">\n",
       "  <thead>\n",
       "    <tr style=\"text-align: right;\">\n",
       "      <th></th>\n",
       "      <th>PassengerId</th>\n",
       "      <th>Survived</th>\n",
       "      <th>Pclass</th>\n",
       "      <th>Name</th>\n",
       "      <th>Sex</th>\n",
       "      <th>Age</th>\n",
       "      <th>SibSp</th>\n",
       "      <th>Parch</th>\n",
       "      <th>Ticket</th>\n",
       "      <th>Fare</th>\n",
       "      <th>Cabin</th>\n",
       "      <th>Embarked</th>\n",
       "    </tr>\n",
       "  </thead>\n",
       "  <tbody>\n",
       "    <tr>\n",
       "      <th>0</th>\n",
       "      <td>1</td>\n",
       "      <td>0</td>\n",
       "      <td>3</td>\n",
       "      <td>Braund, Mr. Owen Harris</td>\n",
       "      <td>male</td>\n",
       "      <td>22.0</td>\n",
       "      <td>1</td>\n",
       "      <td>0</td>\n",
       "      <td>A/5 21171</td>\n",
       "      <td>7.2500</td>\n",
       "      <td>NaN</td>\n",
       "      <td>S</td>\n",
       "    </tr>\n",
       "    <tr>\n",
       "      <th>1</th>\n",
       "      <td>2</td>\n",
       "      <td>1</td>\n",
       "      <td>1</td>\n",
       "      <td>Cumings, Mrs. John Bradley (Florence Briggs Th...</td>\n",
       "      <td>female</td>\n",
       "      <td>38.0</td>\n",
       "      <td>1</td>\n",
       "      <td>0</td>\n",
       "      <td>PC 17599</td>\n",
       "      <td>71.2833</td>\n",
       "      <td>C85</td>\n",
       "      <td>C</td>\n",
       "    </tr>\n",
       "    <tr>\n",
       "      <th>2</th>\n",
       "      <td>3</td>\n",
       "      <td>1</td>\n",
       "      <td>3</td>\n",
       "      <td>Heikkinen, Miss. Laina</td>\n",
       "      <td>female</td>\n",
       "      <td>26.0</td>\n",
       "      <td>0</td>\n",
       "      <td>0</td>\n",
       "      <td>STON/O2. 3101282</td>\n",
       "      <td>7.9250</td>\n",
       "      <td>NaN</td>\n",
       "      <td>S</td>\n",
       "    </tr>\n",
       "    <tr>\n",
       "      <th>3</th>\n",
       "      <td>4</td>\n",
       "      <td>1</td>\n",
       "      <td>1</td>\n",
       "      <td>Futrelle, Mrs. Jacques Heath (Lily May Peel)</td>\n",
       "      <td>female</td>\n",
       "      <td>35.0</td>\n",
       "      <td>1</td>\n",
       "      <td>0</td>\n",
       "      <td>113803</td>\n",
       "      <td>53.1000</td>\n",
       "      <td>C123</td>\n",
       "      <td>S</td>\n",
       "    </tr>\n",
       "    <tr>\n",
       "      <th>4</th>\n",
       "      <td>5</td>\n",
       "      <td>0</td>\n",
       "      <td>3</td>\n",
       "      <td>Allen, Mr. William Henry</td>\n",
       "      <td>male</td>\n",
       "      <td>35.0</td>\n",
       "      <td>0</td>\n",
       "      <td>0</td>\n",
       "      <td>373450</td>\n",
       "      <td>8.0500</td>\n",
       "      <td>NaN</td>\n",
       "      <td>S</td>\n",
       "    </tr>\n",
       "  </tbody>\n",
       "</table>\n",
       "</div>"
      ],
      "text/plain": [
       "   PassengerId  Survived  Pclass  \\\n",
       "0            1         0       3   \n",
       "1            2         1       1   \n",
       "2            3         1       3   \n",
       "3            4         1       1   \n",
       "4            5         0       3   \n",
       "\n",
       "                                                Name     Sex   Age  SibSp  \\\n",
       "0                            Braund, Mr. Owen Harris    male  22.0      1   \n",
       "1  Cumings, Mrs. John Bradley (Florence Briggs Th...  female  38.0      1   \n",
       "2                             Heikkinen, Miss. Laina  female  26.0      0   \n",
       "3       Futrelle, Mrs. Jacques Heath (Lily May Peel)  female  35.0      1   \n",
       "4                           Allen, Mr. William Henry    male  35.0      0   \n",
       "\n",
       "   Parch            Ticket     Fare Cabin Embarked  \n",
       "0      0         A/5 21171   7.2500   NaN        S  \n",
       "1      0          PC 17599  71.2833   C85        C  \n",
       "2      0  STON/O2. 3101282   7.9250   NaN        S  \n",
       "3      0            113803  53.1000  C123        S  \n",
       "4      0            373450   8.0500   NaN        S  "
      ]
     },
     "execution_count": 3,
     "metadata": {},
     "output_type": "execute_result"
    }
   ],
   "source": [
    "df_train.head()"
   ]
  },
  {
   "cell_type": "markdown",
   "metadata": {},
   "source": [
    "### DATA PREVIEW"
   ]
  },
  {
   "cell_type": "code",
   "execution_count": 4,
   "metadata": {},
   "outputs": [
    {
     "name": "stdout",
     "output_type": "stream",
     "text": [
      "Number of train examples:  891\n",
      "Number of test examples:  418\n",
      "Train data shape:  (891, 12)\n",
      "Test data shape:  (418, 11)\n"
     ]
    }
   ],
   "source": [
    "print(\"Number of train examples: \",df_train.shape[0])\n",
    "print(\"Number of test examples: \",df_test.shape[0])\n",
    "print(\"Train data shape: \",df_train.shape)\n",
    "print(\"Test data shape: \",df_test.shape)"
   ]
  },
  {
   "cell_type": "markdown",
   "metadata": {},
   "source": [
    "### EDA"
   ]
  },
  {
   "cell_type": "code",
   "execution_count": 5,
   "metadata": {},
   "outputs": [
    {
     "name": "stdout",
     "output_type": "stream",
     "text": [
      "<class 'pandas.core.frame.DataFrame'>\n",
      "RangeIndex: 891 entries, 0 to 890\n",
      "Data columns (total 12 columns):\n",
      " #   Column       Non-Null Count  Dtype  \n",
      "---  ------       --------------  -----  \n",
      " 0   PassengerId  891 non-null    int64  \n",
      " 1   Survived     891 non-null    int64  \n",
      " 2   Pclass       891 non-null    int64  \n",
      " 3   Name         891 non-null    object \n",
      " 4   Sex          891 non-null    object \n",
      " 5   Age          714 non-null    float64\n",
      " 6   SibSp        891 non-null    int64  \n",
      " 7   Parch        891 non-null    int64  \n",
      " 8   Ticket       891 non-null    object \n",
      " 9   Fare         891 non-null    float64\n",
      " 10  Cabin        204 non-null    object \n",
      " 11  Embarked     889 non-null    object \n",
      "dtypes: float64(2), int64(5), object(5)\n",
      "memory usage: 83.7+ KB\n"
     ]
    }
   ],
   "source": [
    "df_train.info()"
   ]
  },
  {
   "cell_type": "markdown",
   "metadata": {},
   "source": [
    "##### Which features are categorical?\n",
    "- Sex, Embarked, Pclass\n"
   ]
  },
  {
   "cell_type": "markdown",
   "metadata": {},
   "source": [
    "##### Which features are numerical?\n",
    "- Continuous: Age,Fare\n",
    "- Discrete: SibSp,Parch"
   ]
  },
  {
   "cell_type": "markdown",
   "metadata": {},
   "source": [
    "##### Which features are alphanumerical?\n",
    "- Ticket,Cabin"
   ]
  },
  {
   "cell_type": "markdown",
   "metadata": {},
   "source": [
    "### Missing Values"
   ]
  },
  {
   "cell_type": "code",
   "execution_count": 6,
   "metadata": {},
   "outputs": [
    {
     "name": "stdout",
     "output_type": "stream",
     "text": [
      "PassengerId column missing values: 0\n",
      "Survived column missing values: 0\n",
      "Pclass column missing values: 0\n",
      "Name column missing values: 0\n",
      "Sex column missing values: 0\n",
      "Age column missing values: 177\n",
      "SibSp column missing values: 0\n",
      "Parch column missing values: 0\n",
      "Ticket column missing values: 0\n",
      "Fare column missing values: 0\n",
      "Cabin column missing values: 687\n",
      "Embarked column missing values: 2\n",
      "\n",
      "\n",
      "PassengerId column missing values: 0\n",
      "Pclass column missing values: 0\n",
      "Name column missing values: 0\n",
      "Sex column missing values: 0\n",
      "Age column missing values: 86\n",
      "SibSp column missing values: 0\n",
      "Parch column missing values: 0\n",
      "Ticket column missing values: 0\n",
      "Fare column missing values: 1\n",
      "Cabin column missing values: 327\n",
      "Embarked column missing values: 0\n",
      "\n",
      "\n"
     ]
    }
   ],
   "source": [
    "for df in combine:\n",
    "    for col in df.columns.tolist():\n",
    "        print(\"{} column missing values: {}\".format(col,df[col].isnull().sum()))\n",
    "    print(\"\\n\")\n",
    "    "
   ]
  },
  {
   "cell_type": "code",
   "execution_count": 66,
   "metadata": {},
   "outputs": [
    {
     "data": {
      "text/html": [
       "<style type=\"text/css\">\n",
       "#T_0d530_row0_col0, #T_0d530_row1_col1, #T_0d530_row2_col2, #T_0d530_row3_col3, #T_0d530_row4_col4, #T_0d530_row5_col5, #T_0d530_row6_col6, #T_0d530_row7_col7, #T_0d530_row8_col8, #T_0d530_row9_col9, #T_0d530_row9_col10, #T_0d530_row10_col9, #T_0d530_row10_col10, #T_0d530_row11_col11 {\n",
       "  background-color: #b40426;\n",
       "  color: #f1f1f1;\n",
       "}\n",
       "#T_0d530_row0_col1, #T_0d530_row0_col2, #T_0d530_row11_col3 {\n",
       "  background-color: #506bda;\n",
       "  color: #f1f1f1;\n",
       "}\n",
       "#T_0d530_row0_col3, #T_0d530_row1_col5, #T_0d530_row3_col0, #T_0d530_row3_col4, #T_0d530_row3_col8, #T_0d530_row5_col1, #T_0d530_row5_col6, #T_0d530_row5_col7, #T_0d530_row6_col11, #T_0d530_row7_col5, #T_0d530_row7_col9, #T_0d530_row7_col10, #T_0d530_row8_col3, #T_0d530_row11_col2 {\n",
       "  background-color: #3b4cc0;\n",
       "  color: #f1f1f1;\n",
       "}\n",
       "#T_0d530_row0_col4, #T_0d530_row4_col2, #T_0d530_row9_col4, #T_0d530_row10_col4 {\n",
       "  background-color: #85a8fc;\n",
       "  color: #f1f1f1;\n",
       "}\n",
       "#T_0d530_row0_col5, #T_0d530_row2_col5, #T_0d530_row8_col9, #T_0d530_row8_col10 {\n",
       "  background-color: #5673e0;\n",
       "  color: #f1f1f1;\n",
       "}\n",
       "#T_0d530_row0_col6 {\n",
       "  background-color: #c6d6f1;\n",
       "  color: #000000;\n",
       "}\n",
       "#T_0d530_row0_col7 {\n",
       "  background-color: #485fd1;\n",
       "  color: #f1f1f1;\n",
       "}\n",
       "#T_0d530_row0_col8, #T_0d530_row8_col0 {\n",
       "  background-color: #c4d5f3;\n",
       "  color: #000000;\n",
       "}\n",
       "#T_0d530_row0_col9, #T_0d530_row0_col10 {\n",
       "  background-color: #4358cb;\n",
       "  color: #f1f1f1;\n",
       "}\n",
       "#T_0d530_row0_col11 {\n",
       "  background-color: #6a8bef;\n",
       "  color: #f1f1f1;\n",
       "}\n",
       "#T_0d530_row1_col0, #T_0d530_row4_col7, #T_0d530_row7_col2, #T_0d530_row9_col11, #T_0d530_row10_col11 {\n",
       "  background-color: #516ddb;\n",
       "  color: #f1f1f1;\n",
       "}\n",
       "#T_0d530_row1_col2, #T_0d530_row6_col2 {\n",
       "  background-color: #6180e9;\n",
       "  color: #f1f1f1;\n",
       "}\n",
       "#T_0d530_row1_col3 {\n",
       "  background-color: #f18d6f;\n",
       "  color: #f1f1f1;\n",
       "}\n",
       "#T_0d530_row1_col4 {\n",
       "  background-color: #7b9ff9;\n",
       "  color: #f1f1f1;\n",
       "}\n",
       "#T_0d530_row1_col6, #T_0d530_row6_col1 {\n",
       "  background-color: #a5c3fe;\n",
       "  color: #000000;\n",
       "}\n",
       "#T_0d530_row1_col7, #T_0d530_row7_col1 {\n",
       "  background-color: #6282ea;\n",
       "  color: #f1f1f1;\n",
       "}\n",
       "#T_0d530_row1_col8, #T_0d530_row3_col6 {\n",
       "  background-color: #7093f3;\n",
       "  color: #f1f1f1;\n",
       "}\n",
       "#T_0d530_row1_col9, #T_0d530_row1_col10 {\n",
       "  background-color: #455cce;\n",
       "  color: #f1f1f1;\n",
       "}\n",
       "#T_0d530_row1_col11, #T_0d530_row2_col11 {\n",
       "  background-color: #3e51c5;\n",
       "  color: #f1f1f1;\n",
       "}\n",
       "#T_0d530_row2_col0 {\n",
       "  background-color: #5e7de7;\n",
       "  color: #f1f1f1;\n",
       "}\n",
       "#T_0d530_row2_col1 {\n",
       "  background-color: #6c8ff1;\n",
       "  color: #f1f1f1;\n",
       "}\n",
       "#T_0d530_row2_col3 {\n",
       "  background-color: #dadce0;\n",
       "  color: #000000;\n",
       "}\n",
       "#T_0d530_row2_col4 {\n",
       "  background-color: #8db0fe;\n",
       "  color: #000000;\n",
       "}\n",
       "#T_0d530_row2_col6 {\n",
       "  background-color: #6b8df0;\n",
       "  color: #f1f1f1;\n",
       "}\n",
       "#T_0d530_row2_col7, #T_0d530_row9_col3, #T_0d530_row9_col8, #T_0d530_row10_col3, #T_0d530_row10_col8 {\n",
       "  background-color: #5d7ce6;\n",
       "  color: #f1f1f1;\n",
       "}\n",
       "#T_0d530_row2_col8, #T_0d530_row4_col0 {\n",
       "  background-color: #89acfd;\n",
       "  color: #000000;\n",
       "}\n",
       "#T_0d530_row2_col9, #T_0d530_row2_col10 {\n",
       "  background-color: #4c66d6;\n",
       "  color: #f1f1f1;\n",
       "}\n",
       "#T_0d530_row3_col1 {\n",
       "  background-color: #f18f71;\n",
       "  color: #f1f1f1;\n",
       "}\n",
       "#T_0d530_row3_col2 {\n",
       "  background-color: #d4dbe6;\n",
       "  color: #000000;\n",
       "}\n",
       "#T_0d530_row3_col5 {\n",
       "  background-color: #4e68d8;\n",
       "  color: #f1f1f1;\n",
       "}\n",
       "#T_0d530_row3_col7, #T_0d530_row5_col9, #T_0d530_row5_col10 {\n",
       "  background-color: #779af7;\n",
       "  color: #f1f1f1;\n",
       "}\n",
       "#T_0d530_row3_col9, #T_0d530_row3_col10 {\n",
       "  background-color: #5572df;\n",
       "  color: #f1f1f1;\n",
       "}\n",
       "#T_0d530_row3_col11, #T_0d530_row8_col11, #T_0d530_row9_col2, #T_0d530_row10_col2, #T_0d530_row11_col1, #T_0d530_row11_col7 {\n",
       "  background-color: #465ecf;\n",
       "  color: #f1f1f1;\n",
       "}\n",
       "#T_0d530_row4_col1 {\n",
       "  background-color: #7ea1fa;\n",
       "  color: #f1f1f1;\n",
       "}\n",
       "#T_0d530_row4_col3, #T_0d530_row5_col8, #T_0d530_row7_col11, #T_0d530_row9_col7, #T_0d530_row10_col7 {\n",
       "  background-color: #3f53c6;\n",
       "  color: #f1f1f1;\n",
       "}\n",
       "#T_0d530_row4_col5, #T_0d530_row5_col11 {\n",
       "  background-color: #afcafc;\n",
       "  color: #000000;\n",
       "}\n",
       "#T_0d530_row4_col6 {\n",
       "  background-color: #f6bea4;\n",
       "  color: #000000;\n",
       "}\n",
       "#T_0d530_row4_col8 {\n",
       "  background-color: #f5c1a9;\n",
       "  color: #000000;\n",
       "}\n",
       "#T_0d530_row4_col9, #T_0d530_row4_col10 {\n",
       "  background-color: #84a7fc;\n",
       "  color: #f1f1f1;\n",
       "}\n",
       "#T_0d530_row4_col11 {\n",
       "  background-color: #abc8fd;\n",
       "  color: #000000;\n",
       "}\n",
       "#T_0d530_row5_col0, #T_0d530_row9_col6, #T_0d530_row10_col6 {\n",
       "  background-color: #5875e1;\n",
       "  color: #f1f1f1;\n",
       "}\n",
       "#T_0d530_row5_col2, #T_0d530_row9_col1, #T_0d530_row10_col1 {\n",
       "  background-color: #4b64d5;\n",
       "  color: #f1f1f1;\n",
       "}\n",
       "#T_0d530_row5_col3, #T_0d530_row7_col4, #T_0d530_row11_col8 {\n",
       "  background-color: #4f69d9;\n",
       "  color: #f1f1f1;\n",
       "}\n",
       "#T_0d530_row5_col4 {\n",
       "  background-color: #adc9fd;\n",
       "  color: #000000;\n",
       "}\n",
       "#T_0d530_row6_col0 {\n",
       "  background-color: #c9d7f0;\n",
       "  color: #000000;\n",
       "}\n",
       "#T_0d530_row6_col3, #T_0d530_row11_col0 {\n",
       "  background-color: #7396f5;\n",
       "  color: #f1f1f1;\n",
       "}\n",
       "#T_0d530_row6_col4 {\n",
       "  background-color: #f6bfa6;\n",
       "  color: #000000;\n",
       "}\n",
       "#T_0d530_row6_col5 {\n",
       "  background-color: #3c4ec2;\n",
       "  color: #f1f1f1;\n",
       "}\n",
       "#T_0d530_row6_col7 {\n",
       "  background-color: #9bbcff;\n",
       "  color: #000000;\n",
       "}\n",
       "#T_0d530_row6_col8 {\n",
       "  background-color: #f4c6af;\n",
       "  color: #000000;\n",
       "}\n",
       "#T_0d530_row6_col9, #T_0d530_row6_col10 {\n",
       "  background-color: #536edd;\n",
       "  color: #f1f1f1;\n",
       "}\n",
       "#T_0d530_row7_col0 {\n",
       "  background-color: #4961d2;\n",
       "  color: #f1f1f1;\n",
       "}\n",
       "#T_0d530_row7_col3 {\n",
       "  background-color: #799cf8;\n",
       "  color: #f1f1f1;\n",
       "}\n",
       "#T_0d530_row7_col6 {\n",
       "  background-color: #9abbff;\n",
       "  color: #000000;\n",
       "}\n",
       "#T_0d530_row7_col8, #T_0d530_row8_col7 {\n",
       "  background-color: #ebd3c6;\n",
       "  color: #000000;\n",
       "}\n",
       "#T_0d530_row8_col1 {\n",
       "  background-color: #6f92f3;\n",
       "  color: #f1f1f1;\n",
       "}\n",
       "#T_0d530_row8_col2, #T_0d530_row9_col5, #T_0d530_row10_col5 {\n",
       "  background-color: #7da0f9;\n",
       "  color: #f1f1f1;\n",
       "}\n",
       "#T_0d530_row8_col4 {\n",
       "  background-color: #f5c4ac;\n",
       "  color: #000000;\n",
       "}\n",
       "#T_0d530_row8_col5 {\n",
       "  background-color: #3d50c3;\n",
       "  color: #f1f1f1;\n",
       "}\n",
       "#T_0d530_row8_col6 {\n",
       "  background-color: #f3c7b1;\n",
       "  color: #000000;\n",
       "}\n",
       "#T_0d530_row9_col0, #T_0d530_row10_col0 {\n",
       "  background-color: #4a63d3;\n",
       "  color: #f1f1f1;\n",
       "}\n",
       "#T_0d530_row11_col4 {\n",
       "  background-color: #aec9fc;\n",
       "  color: #000000;\n",
       "}\n",
       "#T_0d530_row11_col5 {\n",
       "  background-color: #b6cefa;\n",
       "  color: #000000;\n",
       "}\n",
       "#T_0d530_row11_col6 {\n",
       "  background-color: #4055c8;\n",
       "  color: #f1f1f1;\n",
       "}\n",
       "#T_0d530_row11_col9, #T_0d530_row11_col10 {\n",
       "  background-color: #5470de;\n",
       "  color: #f1f1f1;\n",
       "}\n",
       "</style>\n",
       "<table id=\"T_0d530\">\n",
       "  <thead>\n",
       "    <tr>\n",
       "      <th class=\"blank level0\" >&nbsp;</th>\n",
       "      <th id=\"T_0d530_level0_col0\" class=\"col_heading level0 col0\" >Age</th>\n",
       "      <th id=\"T_0d530_level0_col1\" class=\"col_heading level0 col1\" >Embarked_1</th>\n",
       "      <th id=\"T_0d530_level0_col2\" class=\"col_heading level0 col2\" >Embarked_2</th>\n",
       "      <th id=\"T_0d530_level0_col3\" class=\"col_heading level0 col3\" >Embarked_3</th>\n",
       "      <th id=\"T_0d530_level0_col4\" class=\"col_heading level0 col4\" >Fare</th>\n",
       "      <th id=\"T_0d530_level0_col5\" class=\"col_heading level0 col5\" >Parch</th>\n",
       "      <th id=\"T_0d530_level0_col6\" class=\"col_heading level0 col6\" >Pclass_1</th>\n",
       "      <th id=\"T_0d530_level0_col7\" class=\"col_heading level0 col7\" >Pclass_2</th>\n",
       "      <th id=\"T_0d530_level0_col8\" class=\"col_heading level0 col8\" >Pclass_3</th>\n",
       "      <th id=\"T_0d530_level0_col9\" class=\"col_heading level0 col9\" >Sex_1</th>\n",
       "      <th id=\"T_0d530_level0_col10\" class=\"col_heading level0 col10\" >Sex_2</th>\n",
       "      <th id=\"T_0d530_level0_col11\" class=\"col_heading level0 col11\" >SibSp</th>\n",
       "    </tr>\n",
       "  </thead>\n",
       "  <tbody>\n",
       "    <tr>\n",
       "      <th id=\"T_0d530_level0_row0\" class=\"row_heading level0 row0\" >Age</th>\n",
       "      <td id=\"T_0d530_row0_col0\" class=\"data row0 col0\" >1.000000</td>\n",
       "      <td id=\"T_0d530_row0_col1\" class=\"data row0 col1\" >0.080723</td>\n",
       "      <td id=\"T_0d530_row0_col2\" class=\"data row0 col2\" >0.117423</td>\n",
       "      <td id=\"T_0d530_row0_col3\" class=\"data row0 col3\" >0.003489</td>\n",
       "      <td id=\"T_0d530_row0_col4\" class=\"data row0 col4\" >0.244320</td>\n",
       "      <td id=\"T_0d530_row0_col5\" class=\"data row0 col5\" >0.099165</td>\n",
       "      <td id=\"T_0d530_row0_col6\" class=\"data row0 col6\" >0.428827</td>\n",
       "      <td id=\"T_0d530_row0_col7\" class=\"data row0 col7\" >0.053330</td>\n",
       "      <td id=\"T_0d530_row0_col8\" class=\"data row0 col8\" >0.414760</td>\n",
       "      <td id=\"T_0d530_row0_col9\" class=\"data row0 col9\" >0.056726</td>\n",
       "      <td id=\"T_0d530_row0_col10\" class=\"data row0 col10\" >0.056726</td>\n",
       "      <td id=\"T_0d530_row0_col11\" class=\"data row0 col11\" >0.181026</td>\n",
       "    </tr>\n",
       "    <tr>\n",
       "      <th id=\"T_0d530_level0_row1\" class=\"row_heading level0 row1\" >Embarked_1</th>\n",
       "      <td id=\"T_0d530_row1_col0\" class=\"data row1 col0\" >0.080723</td>\n",
       "      <td id=\"T_0d530_row1_col1\" class=\"data row1 col1\" >1.000000</td>\n",
       "      <td id=\"T_0d530_row1_col2\" class=\"data row1 col2\" >0.164166</td>\n",
       "      <td id=\"T_0d530_row1_col3\" class=\"data row1 col3\" >0.778262</td>\n",
       "      <td id=\"T_0d530_row1_col4\" class=\"data row1 col4\" >0.217734</td>\n",
       "      <td id=\"T_0d530_row1_col5\" class=\"data row1 col5\" >0.008635</td>\n",
       "      <td id=\"T_0d530_row1_col6\" class=\"data row1 col6\" >0.325722</td>\n",
       "      <td id=\"T_0d530_row1_col7\" class=\"data row1 col7\" >0.134675</td>\n",
       "      <td id=\"T_0d530_row1_col8\" class=\"data row1 col8\" >0.171430</td>\n",
       "      <td id=\"T_0d530_row1_col9\" class=\"data row1 col9\" >0.066564</td>\n",
       "      <td id=\"T_0d530_row1_col10\" class=\"data row1 col10\" >0.066564</td>\n",
       "      <td id=\"T_0d530_row1_col11\" class=\"data row1 col11\" >0.048396</td>\n",
       "    </tr>\n",
       "    <tr>\n",
       "      <th id=\"T_0d530_level0_row2\" class=\"row_heading level0 row2\" >Embarked_2</th>\n",
       "      <td id=\"T_0d530_row2_col0\" class=\"data row2 col0\" >0.117423</td>\n",
       "      <td id=\"T_0d530_row2_col1\" class=\"data row2 col1\" >0.164166</td>\n",
       "      <td id=\"T_0d530_row2_col2\" class=\"data row2 col2\" >1.000000</td>\n",
       "      <td id=\"T_0d530_row2_col3\" class=\"data row2 col3\" >0.491656</td>\n",
       "      <td id=\"T_0d530_row2_col4\" class=\"data row2 col4\" >0.267402</td>\n",
       "      <td id=\"T_0d530_row2_col5\" class=\"data row2 col5\" >0.100943</td>\n",
       "      <td id=\"T_0d530_row2_col6\" class=\"data row2 col6\" >0.166101</td>\n",
       "      <td id=\"T_0d530_row2_col7\" class=\"data row2 col7\" >0.121973</td>\n",
       "      <td id=\"T_0d530_row2_col8\" class=\"data row2 col8\" >0.243706</td>\n",
       "      <td id=\"T_0d530_row2_col9\" class=\"data row2 col9\" >0.088651</td>\n",
       "      <td id=\"T_0d530_row2_col10\" class=\"data row2 col10\" >0.088651</td>\n",
       "      <td id=\"T_0d530_row2_col11\" class=\"data row2 col11\" >0.048678</td>\n",
       "    </tr>\n",
       "    <tr>\n",
       "      <th id=\"T_0d530_level0_row3\" class=\"row_heading level0 row3\" >Embarked_3</th>\n",
       "      <td id=\"T_0d530_row3_col0\" class=\"data row3 col0\" >0.003489</td>\n",
       "      <td id=\"T_0d530_row3_col1\" class=\"data row3 col1\" >0.778262</td>\n",
       "      <td id=\"T_0d530_row3_col2\" class=\"data row3 col2\" >0.491656</td>\n",
       "      <td id=\"T_0d530_row3_col3\" class=\"data row3 col3\" >1.000000</td>\n",
       "      <td id=\"T_0d530_row3_col4\" class=\"data row3 col4\" >0.021986</td>\n",
       "      <td id=\"T_0d530_row3_col5\" class=\"data row3 col5\" >0.071881</td>\n",
       "      <td id=\"T_0d530_row3_col6\" class=\"data row3 col6\" >0.181800</td>\n",
       "      <td id=\"T_0d530_row3_col7\" class=\"data row3 col7\" >0.196532</td>\n",
       "      <td id=\"T_0d530_row3_col8\" class=\"data row3 col8\" >0.003805</td>\n",
       "      <td id=\"T_0d530_row3_col9\" class=\"data row3 col9\" >0.115193</td>\n",
       "      <td id=\"T_0d530_row3_col10\" class=\"data row3 col10\" >0.115193</td>\n",
       "      <td id=\"T_0d530_row3_col11\" class=\"data row3 col11\" >0.073709</td>\n",
       "    </tr>\n",
       "    <tr>\n",
       "      <th id=\"T_0d530_level0_row4\" class=\"row_heading level0 row4\" >Fare</th>\n",
       "      <td id=\"T_0d530_row4_col0\" class=\"data row4 col0\" >0.244320</td>\n",
       "      <td id=\"T_0d530_row4_col1\" class=\"data row4 col1\" >0.217734</td>\n",
       "      <td id=\"T_0d530_row4_col2\" class=\"data row4 col2\" >0.267402</td>\n",
       "      <td id=\"T_0d530_row4_col3\" class=\"data row4 col3\" >0.021986</td>\n",
       "      <td id=\"T_0d530_row4_col4\" class=\"data row4 col4\" >1.000000</td>\n",
       "      <td id=\"T_0d530_row4_col5\" class=\"data row4 col5\" >0.355646</td>\n",
       "      <td id=\"T_0d530_row4_col6\" class=\"data row4 col6\" >0.651767</td>\n",
       "      <td id=\"T_0d530_row4_col7\" class=\"data row4 col7\" >0.087108</td>\n",
       "      <td id=\"T_0d530_row4_col8\" class=\"data row4 col8\" >0.635347</td>\n",
       "      <td id=\"T_0d530_row4_col9\" class=\"data row4 col9\" >0.246767</td>\n",
       "      <td id=\"T_0d530_row4_col10\" class=\"data row4 col10\" >0.246767</td>\n",
       "      <td id=\"T_0d530_row4_col11\" class=\"data row4 col11\" >0.360118</td>\n",
       "    </tr>\n",
       "    <tr>\n",
       "      <th id=\"T_0d530_level0_row5\" class=\"row_heading level0 row5\" >Parch</th>\n",
       "      <td id=\"T_0d530_row5_col0\" class=\"data row5 col0\" >0.099165</td>\n",
       "      <td id=\"T_0d530_row5_col1\" class=\"data row5 col1\" >0.008635</td>\n",
       "      <td id=\"T_0d530_row5_col2\" class=\"data row5 col2\" >0.100943</td>\n",
       "      <td id=\"T_0d530_row5_col3\" class=\"data row5 col3\" >0.071881</td>\n",
       "      <td id=\"T_0d530_row5_col4\" class=\"data row5 col4\" >0.355646</td>\n",
       "      <td id=\"T_0d530_row5_col5\" class=\"data row5 col5\" >1.000000</td>\n",
       "      <td id=\"T_0d530_row5_col6\" class=\"data row5 col6\" >0.013033</td>\n",
       "      <td id=\"T_0d530_row5_col7\" class=\"data row5 col7\" >0.010057</td>\n",
       "      <td id=\"T_0d530_row5_col8\" class=\"data row5 col8\" >0.019521</td>\n",
       "      <td id=\"T_0d530_row5_col9\" class=\"data row5 col9\" >0.213125</td>\n",
       "      <td id=\"T_0d530_row5_col10\" class=\"data row5 col10\" >0.213125</td>\n",
       "      <td id=\"T_0d530_row5_col11\" class=\"data row5 col11\" >0.373587</td>\n",
       "    </tr>\n",
       "    <tr>\n",
       "      <th id=\"T_0d530_level0_row6\" class=\"row_heading level0 row6\" >Pclass_1</th>\n",
       "      <td id=\"T_0d530_row6_col0\" class=\"data row6 col0\" >0.428827</td>\n",
       "      <td id=\"T_0d530_row6_col1\" class=\"data row6 col1\" >0.325722</td>\n",
       "      <td id=\"T_0d530_row6_col2\" class=\"data row6 col2\" >0.166101</td>\n",
       "      <td id=\"T_0d530_row6_col3\" class=\"data row6 col3\" >0.181800</td>\n",
       "      <td id=\"T_0d530_row6_col4\" class=\"data row6 col4\" >0.651767</td>\n",
       "      <td id=\"T_0d530_row6_col5\" class=\"data row6 col5\" >0.013033</td>\n",
       "      <td id=\"T_0d530_row6_col6\" class=\"data row6 col6\" >1.000000</td>\n",
       "      <td id=\"T_0d530_row6_col7\" class=\"data row6 col7\" >0.296526</td>\n",
       "      <td id=\"T_0d530_row6_col8\" class=\"data row6 col8\" >0.622172</td>\n",
       "      <td id=\"T_0d530_row6_col9\" class=\"data row6 col9\" >0.107371</td>\n",
       "      <td id=\"T_0d530_row6_col10\" class=\"data row6 col10\" >0.107371</td>\n",
       "      <td id=\"T_0d530_row6_col11\" class=\"data row6 col11\" >0.034256</td>\n",
       "    </tr>\n",
       "    <tr>\n",
       "      <th id=\"T_0d530_level0_row7\" class=\"row_heading level0 row7\" >Pclass_2</th>\n",
       "      <td id=\"T_0d530_row7_col0\" class=\"data row7 col0\" >0.053330</td>\n",
       "      <td id=\"T_0d530_row7_col1\" class=\"data row7 col1\" >0.134675</td>\n",
       "      <td id=\"T_0d530_row7_col2\" class=\"data row7 col2\" >0.121973</td>\n",
       "      <td id=\"T_0d530_row7_col3\" class=\"data row7 col3\" >0.196532</td>\n",
       "      <td id=\"T_0d530_row7_col4\" class=\"data row7 col4\" >0.087108</td>\n",
       "      <td id=\"T_0d530_row7_col5\" class=\"data row7 col5\" >0.010057</td>\n",
       "      <td id=\"T_0d530_row7_col6\" class=\"data row7 col6\" >0.296526</td>\n",
       "      <td id=\"T_0d530_row7_col7\" class=\"data row7 col7\" >1.000000</td>\n",
       "      <td id=\"T_0d530_row7_col8\" class=\"data row7 col8\" >0.563180</td>\n",
       "      <td id=\"T_0d530_row7_col9\" class=\"data row7 col9\" >0.028862</td>\n",
       "      <td id=\"T_0d530_row7_col10\" class=\"data row7 col10\" >0.028862</td>\n",
       "      <td id=\"T_0d530_row7_col11\" class=\"data row7 col11\" >0.052419</td>\n",
       "    </tr>\n",
       "    <tr>\n",
       "      <th id=\"T_0d530_level0_row8\" class=\"row_heading level0 row8\" >Pclass_3</th>\n",
       "      <td id=\"T_0d530_row8_col0\" class=\"data row8 col0\" >0.414760</td>\n",
       "      <td id=\"T_0d530_row8_col1\" class=\"data row8 col1\" >0.171430</td>\n",
       "      <td id=\"T_0d530_row8_col2\" class=\"data row8 col2\" >0.243706</td>\n",
       "      <td id=\"T_0d530_row8_col3\" class=\"data row8 col3\" >0.003805</td>\n",
       "      <td id=\"T_0d530_row8_col4\" class=\"data row8 col4\" >0.635347</td>\n",
       "      <td id=\"T_0d530_row8_col5\" class=\"data row8 col5\" >0.019521</td>\n",
       "      <td id=\"T_0d530_row8_col6\" class=\"data row8 col6\" >0.622172</td>\n",
       "      <td id=\"T_0d530_row8_col7\" class=\"data row8 col7\" >0.563180</td>\n",
       "      <td id=\"T_0d530_row8_col8\" class=\"data row8 col8\" >1.000000</td>\n",
       "      <td id=\"T_0d530_row8_col9\" class=\"data row8 col9\" >0.116562</td>\n",
       "      <td id=\"T_0d530_row8_col10\" class=\"data row8 col10\" >0.116562</td>\n",
       "      <td id=\"T_0d530_row8_col11\" class=\"data row8 col11\" >0.072610</td>\n",
       "    </tr>\n",
       "    <tr>\n",
       "      <th id=\"T_0d530_level0_row9\" class=\"row_heading level0 row9\" >Sex_1</th>\n",
       "      <td id=\"T_0d530_row9_col0\" class=\"data row9 col0\" >0.056726</td>\n",
       "      <td id=\"T_0d530_row9_col1\" class=\"data row9 col1\" >0.066564</td>\n",
       "      <td id=\"T_0d530_row9_col2\" class=\"data row9 col2\" >0.088651</td>\n",
       "      <td id=\"T_0d530_row9_col3\" class=\"data row9 col3\" >0.115193</td>\n",
       "      <td id=\"T_0d530_row9_col4\" class=\"data row9 col4\" >0.246767</td>\n",
       "      <td id=\"T_0d530_row9_col5\" class=\"data row9 col5\" >0.213125</td>\n",
       "      <td id=\"T_0d530_row9_col6\" class=\"data row9 col6\" >0.107371</td>\n",
       "      <td id=\"T_0d530_row9_col7\" class=\"data row9 col7\" >0.028862</td>\n",
       "      <td id=\"T_0d530_row9_col8\" class=\"data row9 col8\" >0.116562</td>\n",
       "      <td id=\"T_0d530_row9_col9\" class=\"data row9 col9\" >1.000000</td>\n",
       "      <td id=\"T_0d530_row9_col10\" class=\"data row9 col10\" >1.000000</td>\n",
       "      <td id=\"T_0d530_row9_col11\" class=\"data row9 col11\" >0.109609</td>\n",
       "    </tr>\n",
       "    <tr>\n",
       "      <th id=\"T_0d530_level0_row10\" class=\"row_heading level0 row10\" >Sex_2</th>\n",
       "      <td id=\"T_0d530_row10_col0\" class=\"data row10 col0\" >0.056726</td>\n",
       "      <td id=\"T_0d530_row10_col1\" class=\"data row10 col1\" >0.066564</td>\n",
       "      <td id=\"T_0d530_row10_col2\" class=\"data row10 col2\" >0.088651</td>\n",
       "      <td id=\"T_0d530_row10_col3\" class=\"data row10 col3\" >0.115193</td>\n",
       "      <td id=\"T_0d530_row10_col4\" class=\"data row10 col4\" >0.246767</td>\n",
       "      <td id=\"T_0d530_row10_col5\" class=\"data row10 col5\" >0.213125</td>\n",
       "      <td id=\"T_0d530_row10_col6\" class=\"data row10 col6\" >0.107371</td>\n",
       "      <td id=\"T_0d530_row10_col7\" class=\"data row10 col7\" >0.028862</td>\n",
       "      <td id=\"T_0d530_row10_col8\" class=\"data row10 col8\" >0.116562</td>\n",
       "      <td id=\"T_0d530_row10_col9\" class=\"data row10 col9\" >1.000000</td>\n",
       "      <td id=\"T_0d530_row10_col10\" class=\"data row10 col10\" >1.000000</td>\n",
       "      <td id=\"T_0d530_row10_col11\" class=\"data row10 col11\" >0.109609</td>\n",
       "    </tr>\n",
       "    <tr>\n",
       "      <th id=\"T_0d530_level0_row11\" class=\"row_heading level0 row11\" >SibSp</th>\n",
       "      <td id=\"T_0d530_row11_col0\" class=\"data row11 col0\" >0.181026</td>\n",
       "      <td id=\"T_0d530_row11_col1\" class=\"data row11 col1\" >0.048396</td>\n",
       "      <td id=\"T_0d530_row11_col2\" class=\"data row11 col2\" >0.048678</td>\n",
       "      <td id=\"T_0d530_row11_col3\" class=\"data row11 col3\" >0.073709</td>\n",
       "      <td id=\"T_0d530_row11_col4\" class=\"data row11 col4\" >0.360118</td>\n",
       "      <td id=\"T_0d530_row11_col5\" class=\"data row11 col5\" >0.373587</td>\n",
       "      <td id=\"T_0d530_row11_col6\" class=\"data row11 col6\" >0.034256</td>\n",
       "      <td id=\"T_0d530_row11_col7\" class=\"data row11 col7\" >0.052419</td>\n",
       "      <td id=\"T_0d530_row11_col8\" class=\"data row11 col8\" >0.072610</td>\n",
       "      <td id=\"T_0d530_row11_col9\" class=\"data row11 col9\" >0.109609</td>\n",
       "      <td id=\"T_0d530_row11_col10\" class=\"data row11 col10\" >0.109609</td>\n",
       "      <td id=\"T_0d530_row11_col11\" class=\"data row11 col11\" >1.000000</td>\n",
       "    </tr>\n",
       "  </tbody>\n",
       "</table>\n"
      ],
      "text/plain": [
       "<pandas.io.formats.style.Styler at 0x7f26ec55a280>"
      ]
     },
     "execution_count": 66,
     "metadata": {},
     "output_type": "execute_result"
    }
   ],
   "source": [
    "corr = df_all.corr().abs()\n",
    "corr.style.background_gradient(cmap='coolwarm')"
   ]
  },
  {
   "cell_type": "markdown",
   "metadata": {},
   "source": [
    "#### Age"
   ]
  },
  {
   "cell_type": "code",
   "execution_count": 10,
   "metadata": {},
   "outputs": [
    {
     "data": {
      "text/html": [
       "<div>\n",
       "<style scoped>\n",
       "    .dataframe tbody tr th:only-of-type {\n",
       "        vertical-align: middle;\n",
       "    }\n",
       "\n",
       "    .dataframe tbody tr th {\n",
       "        vertical-align: top;\n",
       "    }\n",
       "\n",
       "    .dataframe thead th {\n",
       "        text-align: right;\n",
       "    }\n",
       "</style>\n",
       "<table border=\"1\" class=\"dataframe\">\n",
       "  <thead>\n",
       "    <tr style=\"text-align: right;\">\n",
       "      <th></th>\n",
       "      <th>Feature 1</th>\n",
       "      <th>Feature 2</th>\n",
       "      <th>Correlation Coefficient</th>\n",
       "    </tr>\n",
       "  </thead>\n",
       "  <tbody>\n",
       "    <tr>\n",
       "      <th>0</th>\n",
       "      <td>Age</td>\n",
       "      <td>Age</td>\n",
       "      <td>1.000000</td>\n",
       "    </tr>\n",
       "    <tr>\n",
       "      <th>9</th>\n",
       "      <td>Age</td>\n",
       "      <td>Pclass</td>\n",
       "      <td>0.408106</td>\n",
       "    </tr>\n",
       "    <tr>\n",
       "      <th>18</th>\n",
       "      <td>Age</td>\n",
       "      <td>SibSp</td>\n",
       "      <td>0.243699</td>\n",
       "    </tr>\n",
       "    <tr>\n",
       "      <th>21</th>\n",
       "      <td>Age</td>\n",
       "      <td>Fare</td>\n",
       "      <td>0.178740</td>\n",
       "    </tr>\n",
       "    <tr>\n",
       "      <th>26</th>\n",
       "      <td>Age</td>\n",
       "      <td>Parch</td>\n",
       "      <td>0.150917</td>\n",
       "    </tr>\n",
       "    <tr>\n",
       "      <th>30</th>\n",
       "      <td>Age</td>\n",
       "      <td>Survived</td>\n",
       "      <td>0.077221</td>\n",
       "    </tr>\n",
       "    <tr>\n",
       "      <th>41</th>\n",
       "      <td>Age</td>\n",
       "      <td>PassengerId</td>\n",
       "      <td>0.028814</td>\n",
       "    </tr>\n",
       "  </tbody>\n",
       "</table>\n",
       "</div>"
      ],
      "text/plain": [
       "   Feature 1    Feature 2  Correlation Coefficient\n",
       "0        Age          Age                 1.000000\n",
       "9        Age       Pclass                 0.408106\n",
       "18       Age        SibSp                 0.243699\n",
       "21       Age         Fare                 0.178740\n",
       "26       Age        Parch                 0.150917\n",
       "30       Age     Survived                 0.077221\n",
       "41       Age  PassengerId                 0.028814"
      ]
     },
     "execution_count": 10,
     "metadata": {},
     "output_type": "execute_result"
    }
   ],
   "source": [
    "df_all_corr = df_all.corr().abs().unstack().sort_values(kind=\"quicksort\", ascending=False).reset_index()\n",
    "df_all_corr.rename(columns={\"level_0\": \"Feature 1\", \"level_1\": \"Feature 2\", 0: 'Correlation Coefficient'}, inplace=True)\n",
    "df_all_corr[df_all_corr['Feature 1'] == 'Age']"
   ]
  },
  {
   "cell_type": "code",
   "execution_count": 12,
   "metadata": {},
   "outputs": [
    {
     "name": "stdout",
     "output_type": "stream",
     "text": [
      "Pclass\n",
      "1    39.0\n",
      "2    29.0\n",
      "3    24.0\n",
      "Name: Age, dtype: float64\n"
     ]
    }
   ],
   "source": [
    "age_by_pclass = df_all.groupby(['Pclass']).median()['Age']\n",
    "print(age_by_pclass)\n",
    "\n",
    "#filling the missing values\n",
    "df_all['Age'] = df_all.groupby(['Pclass'])['Age'].apply(lambda x: x.fillna(x.median()))"
   ]
  },
  {
   "cell_type": "code",
   "execution_count": 13,
   "metadata": {},
   "outputs": [
    {
     "data": {
      "text/plain": [
       "0"
      ]
     },
     "execution_count": 13,
     "metadata": {},
     "output_type": "execute_result"
    }
   ],
   "source": [
    "df_all['Age'].isnull().sum()"
   ]
  },
  {
   "cell_type": "markdown",
   "metadata": {},
   "source": [
    "#### Fare"
   ]
  },
  {
   "cell_type": "code",
   "execution_count": 14,
   "metadata": {},
   "outputs": [
    {
     "data": {
      "text/plain": [
       "1"
      ]
     },
     "execution_count": 14,
     "metadata": {},
     "output_type": "execute_result"
    }
   ],
   "source": [
    "df_all['Fare'].isnull().sum()"
   ]
  },
  {
   "cell_type": "code",
   "execution_count": 15,
   "metadata": {},
   "outputs": [],
   "source": [
    "df_all['Fare'].fillna(df_all['Fare'].median(),inplace = True)"
   ]
  },
  {
   "cell_type": "code",
   "execution_count": 16,
   "metadata": {},
   "outputs": [
    {
     "data": {
      "text/plain": [
       "0"
      ]
     },
     "execution_count": 16,
     "metadata": {},
     "output_type": "execute_result"
    }
   ],
   "source": [
    "df_all['Fare'].isnull().sum()"
   ]
  },
  {
   "cell_type": "markdown",
   "metadata": {},
   "source": [
    "#### Embarked"
   ]
  },
  {
   "cell_type": "code",
   "execution_count": 17,
   "metadata": {},
   "outputs": [
    {
     "data": {
      "text/plain": [
       "2"
      ]
     },
     "execution_count": 17,
     "metadata": {},
     "output_type": "execute_result"
    }
   ],
   "source": [
    "df_all['Embarked'].isnull().sum()"
   ]
  },
  {
   "cell_type": "code",
   "execution_count": 18,
   "metadata": {},
   "outputs": [
    {
     "data": {
      "text/plain": [
       "'S'"
      ]
     },
     "execution_count": 18,
     "metadata": {},
     "output_type": "execute_result"
    }
   ],
   "source": [
    "freq_embarked = df_all.Embarked.dropna().mode()[0]\n",
    "freq_embarked"
   ]
  },
  {
   "cell_type": "code",
   "execution_count": 19,
   "metadata": {},
   "outputs": [],
   "source": [
    "df_all['Embarked'] = df_all['Embarked'].fillna(freq_embarked)"
   ]
  },
  {
   "cell_type": "code",
   "execution_count": 20,
   "metadata": {},
   "outputs": [
    {
     "data": {
      "text/plain": [
       "0"
      ]
     },
     "execution_count": 20,
     "metadata": {},
     "output_type": "execute_result"
    }
   ],
   "source": [
    "df_all['Embarked'].isnull().sum()"
   ]
  },
  {
   "cell_type": "markdown",
   "metadata": {},
   "source": [
    "#### Ticket,Cabin,Name"
   ]
  },
  {
   "cell_type": "code",
   "execution_count": 21,
   "metadata": {},
   "outputs": [],
   "source": [
    "df_all = df_all.drop(['Ticket','Cabin','Name'],axis= 1)"
   ]
  },
  {
   "cell_type": "code",
   "execution_count": 22,
   "metadata": {},
   "outputs": [
    {
     "data": {
      "text/html": [
       "<div>\n",
       "<style scoped>\n",
       "    .dataframe tbody tr th:only-of-type {\n",
       "        vertical-align: middle;\n",
       "    }\n",
       "\n",
       "    .dataframe tbody tr th {\n",
       "        vertical-align: top;\n",
       "    }\n",
       "\n",
       "    .dataframe thead th {\n",
       "        text-align: right;\n",
       "    }\n",
       "</style>\n",
       "<table border=\"1\" class=\"dataframe\">\n",
       "  <thead>\n",
       "    <tr style=\"text-align: right;\">\n",
       "      <th></th>\n",
       "      <th>Age</th>\n",
       "      <th>Embarked</th>\n",
       "      <th>Fare</th>\n",
       "      <th>Parch</th>\n",
       "      <th>PassengerId</th>\n",
       "      <th>Pclass</th>\n",
       "      <th>Sex</th>\n",
       "      <th>SibSp</th>\n",
       "      <th>Survived</th>\n",
       "    </tr>\n",
       "  </thead>\n",
       "  <tbody>\n",
       "    <tr>\n",
       "      <th>0</th>\n",
       "      <td>22.0</td>\n",
       "      <td>S</td>\n",
       "      <td>7.2500</td>\n",
       "      <td>0</td>\n",
       "      <td>1</td>\n",
       "      <td>3</td>\n",
       "      <td>male</td>\n",
       "      <td>1</td>\n",
       "      <td>0.0</td>\n",
       "    </tr>\n",
       "    <tr>\n",
       "      <th>1</th>\n",
       "      <td>38.0</td>\n",
       "      <td>C</td>\n",
       "      <td>71.2833</td>\n",
       "      <td>0</td>\n",
       "      <td>2</td>\n",
       "      <td>1</td>\n",
       "      <td>female</td>\n",
       "      <td>1</td>\n",
       "      <td>1.0</td>\n",
       "    </tr>\n",
       "    <tr>\n",
       "      <th>2</th>\n",
       "      <td>26.0</td>\n",
       "      <td>S</td>\n",
       "      <td>7.9250</td>\n",
       "      <td>0</td>\n",
       "      <td>3</td>\n",
       "      <td>3</td>\n",
       "      <td>female</td>\n",
       "      <td>0</td>\n",
       "      <td>1.0</td>\n",
       "    </tr>\n",
       "    <tr>\n",
       "      <th>3</th>\n",
       "      <td>35.0</td>\n",
       "      <td>S</td>\n",
       "      <td>53.1000</td>\n",
       "      <td>0</td>\n",
       "      <td>4</td>\n",
       "      <td>1</td>\n",
       "      <td>female</td>\n",
       "      <td>1</td>\n",
       "      <td>1.0</td>\n",
       "    </tr>\n",
       "    <tr>\n",
       "      <th>4</th>\n",
       "      <td>35.0</td>\n",
       "      <td>S</td>\n",
       "      <td>8.0500</td>\n",
       "      <td>0</td>\n",
       "      <td>5</td>\n",
       "      <td>3</td>\n",
       "      <td>male</td>\n",
       "      <td>0</td>\n",
       "      <td>0.0</td>\n",
       "    </tr>\n",
       "  </tbody>\n",
       "</table>\n",
       "</div>"
      ],
      "text/plain": [
       "    Age Embarked     Fare  Parch  PassengerId  Pclass     Sex  SibSp  Survived\n",
       "0  22.0        S   7.2500      0            1       3    male      1       0.0\n",
       "1  38.0        C  71.2833      0            2       1  female      1       1.0\n",
       "2  26.0        S   7.9250      0            3       3  female      0       1.0\n",
       "3  35.0        S  53.1000      0            4       1  female      1       1.0\n",
       "4  35.0        S   8.0500      0            5       3    male      0       0.0"
      ]
     },
     "execution_count": 22,
     "metadata": {},
     "output_type": "execute_result"
    }
   ],
   "source": [
    "df_all.head()"
   ]
  },
  {
   "cell_type": "code",
   "execution_count": 23,
   "metadata": {},
   "outputs": [
    {
     "name": "stdout",
     "output_type": "stream",
     "text": [
      "Age column missing values: 0\n",
      "Embarked column missing values: 0\n",
      "Fare column missing values: 0\n",
      "Parch column missing values: 0\n",
      "PassengerId column missing values: 0\n",
      "Pclass column missing values: 0\n",
      "Sex column missing values: 0\n",
      "SibSp column missing values: 0\n",
      "Survived column missing values: 0\n",
      "\n",
      "\n",
      "Age column missing values: 0\n",
      "Embarked column missing values: 0\n",
      "Fare column missing values: 0\n",
      "Parch column missing values: 0\n",
      "PassengerId column missing values: 0\n",
      "Pclass column missing values: 0\n",
      "Sex column missing values: 0\n",
      "SibSp column missing values: 0\n",
      "\n",
      "\n"
     ]
    }
   ],
   "source": [
    "\n",
    "df_train,df_test = df_all.loc[:890], df_all.loc[891:].drop(['Survived'], axis=1)\n",
    "combine = [df_train,df_test]\n",
    "\n",
    "for df in combine:\n",
    "    for col in df.columns.tolist():\n",
    "        print(\"{} column missing values: {}\".format(col,df[col].isnull().sum()))\n",
    "    print(\"\\n\")"
   ]
  },
  {
   "cell_type": "markdown",
   "metadata": {},
   "source": [
    "#### Distribution of Numerical Features"
   ]
  },
  {
   "cell_type": "code",
   "execution_count": 24,
   "metadata": {},
   "outputs": [
    {
     "data": {
      "text/html": [
       "<div>\n",
       "<style scoped>\n",
       "    .dataframe tbody tr th:only-of-type {\n",
       "        vertical-align: middle;\n",
       "    }\n",
       "\n",
       "    .dataframe tbody tr th {\n",
       "        vertical-align: top;\n",
       "    }\n",
       "\n",
       "    .dataframe thead th {\n",
       "        text-align: right;\n",
       "    }\n",
       "</style>\n",
       "<table border=\"1\" class=\"dataframe\">\n",
       "  <thead>\n",
       "    <tr style=\"text-align: right;\">\n",
       "      <th></th>\n",
       "      <th>Age</th>\n",
       "      <th>Fare</th>\n",
       "      <th>Parch</th>\n",
       "      <th>PassengerId</th>\n",
       "      <th>Pclass</th>\n",
       "      <th>SibSp</th>\n",
       "      <th>Survived</th>\n",
       "    </tr>\n",
       "  </thead>\n",
       "  <tbody>\n",
       "    <tr>\n",
       "      <th>count</th>\n",
       "      <td>891.000000</td>\n",
       "      <td>891.000000</td>\n",
       "      <td>891.000000</td>\n",
       "      <td>891.000000</td>\n",
       "      <td>891.000000</td>\n",
       "      <td>891.000000</td>\n",
       "      <td>891.000000</td>\n",
       "    </tr>\n",
       "    <tr>\n",
       "      <th>mean</th>\n",
       "      <td>29.133749</td>\n",
       "      <td>32.204208</td>\n",
       "      <td>0.381594</td>\n",
       "      <td>446.000000</td>\n",
       "      <td>2.308642</td>\n",
       "      <td>0.523008</td>\n",
       "      <td>0.383838</td>\n",
       "    </tr>\n",
       "    <tr>\n",
       "      <th>std</th>\n",
       "      <td>13.289756</td>\n",
       "      <td>49.693429</td>\n",
       "      <td>0.806057</td>\n",
       "      <td>257.353842</td>\n",
       "      <td>0.836071</td>\n",
       "      <td>1.102743</td>\n",
       "      <td>0.486592</td>\n",
       "    </tr>\n",
       "    <tr>\n",
       "      <th>min</th>\n",
       "      <td>0.420000</td>\n",
       "      <td>0.000000</td>\n",
       "      <td>0.000000</td>\n",
       "      <td>1.000000</td>\n",
       "      <td>1.000000</td>\n",
       "      <td>0.000000</td>\n",
       "      <td>0.000000</td>\n",
       "    </tr>\n",
       "    <tr>\n",
       "      <th>25%</th>\n",
       "      <td>22.000000</td>\n",
       "      <td>7.910400</td>\n",
       "      <td>0.000000</td>\n",
       "      <td>223.500000</td>\n",
       "      <td>2.000000</td>\n",
       "      <td>0.000000</td>\n",
       "      <td>0.000000</td>\n",
       "    </tr>\n",
       "    <tr>\n",
       "      <th>50%</th>\n",
       "      <td>26.000000</td>\n",
       "      <td>14.454200</td>\n",
       "      <td>0.000000</td>\n",
       "      <td>446.000000</td>\n",
       "      <td>3.000000</td>\n",
       "      <td>0.000000</td>\n",
       "      <td>0.000000</td>\n",
       "    </tr>\n",
       "    <tr>\n",
       "      <th>75%</th>\n",
       "      <td>37.000000</td>\n",
       "      <td>31.000000</td>\n",
       "      <td>0.000000</td>\n",
       "      <td>668.500000</td>\n",
       "      <td>3.000000</td>\n",
       "      <td>1.000000</td>\n",
       "      <td>1.000000</td>\n",
       "    </tr>\n",
       "    <tr>\n",
       "      <th>max</th>\n",
       "      <td>80.000000</td>\n",
       "      <td>512.329200</td>\n",
       "      <td>6.000000</td>\n",
       "      <td>891.000000</td>\n",
       "      <td>3.000000</td>\n",
       "      <td>8.000000</td>\n",
       "      <td>1.000000</td>\n",
       "    </tr>\n",
       "  </tbody>\n",
       "</table>\n",
       "</div>"
      ],
      "text/plain": [
       "              Age        Fare       Parch  PassengerId      Pclass  \\\n",
       "count  891.000000  891.000000  891.000000   891.000000  891.000000   \n",
       "mean    29.133749   32.204208    0.381594   446.000000    2.308642   \n",
       "std     13.289756   49.693429    0.806057   257.353842    0.836071   \n",
       "min      0.420000    0.000000    0.000000     1.000000    1.000000   \n",
       "25%     22.000000    7.910400    0.000000   223.500000    2.000000   \n",
       "50%     26.000000   14.454200    0.000000   446.000000    3.000000   \n",
       "75%     37.000000   31.000000    0.000000   668.500000    3.000000   \n",
       "max     80.000000  512.329200    6.000000   891.000000    3.000000   \n",
       "\n",
       "            SibSp    Survived  \n",
       "count  891.000000  891.000000  \n",
       "mean     0.523008    0.383838  \n",
       "std      1.102743    0.486592  \n",
       "min      0.000000    0.000000  \n",
       "25%      0.000000    0.000000  \n",
       "50%      0.000000    0.000000  \n",
       "75%      1.000000    1.000000  \n",
       "max      8.000000    1.000000  "
      ]
     },
     "execution_count": 24,
     "metadata": {},
     "output_type": "execute_result"
    }
   ],
   "source": [
    "df_train.describe()"
   ]
  },
  {
   "cell_type": "markdown",
   "metadata": {},
   "source": [
    "#### Distribution of Categorical Features"
   ]
  },
  {
   "cell_type": "code",
   "execution_count": 25,
   "metadata": {},
   "outputs": [
    {
     "data": {
      "text/html": [
       "<div>\n",
       "<style scoped>\n",
       "    .dataframe tbody tr th:only-of-type {\n",
       "        vertical-align: middle;\n",
       "    }\n",
       "\n",
       "    .dataframe tbody tr th {\n",
       "        vertical-align: top;\n",
       "    }\n",
       "\n",
       "    .dataframe thead th {\n",
       "        text-align: right;\n",
       "    }\n",
       "</style>\n",
       "<table border=\"1\" class=\"dataframe\">\n",
       "  <thead>\n",
       "    <tr style=\"text-align: right;\">\n",
       "      <th></th>\n",
       "      <th>Embarked</th>\n",
       "      <th>Sex</th>\n",
       "    </tr>\n",
       "  </thead>\n",
       "  <tbody>\n",
       "    <tr>\n",
       "      <th>count</th>\n",
       "      <td>891</td>\n",
       "      <td>891</td>\n",
       "    </tr>\n",
       "    <tr>\n",
       "      <th>unique</th>\n",
       "      <td>3</td>\n",
       "      <td>2</td>\n",
       "    </tr>\n",
       "    <tr>\n",
       "      <th>top</th>\n",
       "      <td>S</td>\n",
       "      <td>male</td>\n",
       "    </tr>\n",
       "    <tr>\n",
       "      <th>freq</th>\n",
       "      <td>646</td>\n",
       "      <td>577</td>\n",
       "    </tr>\n",
       "  </tbody>\n",
       "</table>\n",
       "</div>"
      ],
      "text/plain": [
       "       Embarked   Sex\n",
       "count       891   891\n",
       "unique        3     2\n",
       "top           S  male\n",
       "freq        646   577"
      ]
     },
     "execution_count": 25,
     "metadata": {},
     "output_type": "execute_result"
    }
   ],
   "source": [
    "df_train.describe(include=['O'])"
   ]
  },
  {
   "cell_type": "markdown",
   "metadata": {},
   "source": [
    "# Feature Engineering"
   ]
  },
  {
   "cell_type": "markdown",
   "metadata": {},
   "source": [
    "### Binning Continuous Features"
   ]
  },
  {
   "cell_type": "markdown",
   "metadata": {},
   "source": [
    "#### Fare"
   ]
  },
  {
   "cell_type": "code",
   "execution_count": 30,
   "metadata": {},
   "outputs": [],
   "source": [
    "df_all = pd.concat([df_train, df_test], sort=True).reset_index(drop=True)\n",
    "df_all['Fare'] = pd.qcut(df_all['Fare'],13)"
   ]
  },
  {
   "cell_type": "code",
   "execution_count": 31,
   "metadata": {},
   "outputs": [
    {
     "data": {
      "text/plain": [
       "0      (-0.001, 7.25]\n",
       "1    (56.496, 83.475]\n",
       "2       (7.896, 8.05]\n",
       "3    (34.075, 56.496]\n",
       "4       (7.896, 8.05]\n",
       "Name: Fare, dtype: category\n",
       "Categories (13, interval[float64, right]): [(-0.001, 7.25] < (7.25, 7.75] < (7.75, 7.896] < (7.896, 8.05] ... (26.55, 34.075] < (34.075, 56.496] < (56.496, 83.475] < (83.475, 512.329]]"
      ]
     },
     "execution_count": 31,
     "metadata": {},
     "output_type": "execute_result"
    }
   ],
   "source": [
    "df_all['Fare'].head()"
   ]
  },
  {
   "cell_type": "code",
   "execution_count": 32,
   "metadata": {},
   "outputs": [
    {
     "data": {
      "image/png": "[encoded data removed]",
      "text/plain": [
       "<Figure size 1584x648 with 1 Axes>"
      ]
     },
     "metadata": {},
     "output_type": "display_data"
    }
   ],
   "source": [
    "fig, axs = plt.subplots(figsize=(22, 9))\n",
    "sns.countplot(x='Fare', hue='Survived', data=df_all)\n",
    "\n",
    "plt.xlabel('Fare', size=15, labelpad=20)\n",
    "plt.ylabel('Passenger Count', size=15, labelpad=20)\n",
    "plt.tick_params(axis='x', labelsize=10)\n",
    "plt.tick_params(axis='y', labelsize=15)\n",
    "\n",
    "plt.legend(['Not Survived', 'Survived'], loc='upper right', prop={'size': 15})\n",
    "\n",
    "plt.show()"
   ]
  },
  {
   "cell_type": "code",
   "execution_count": 33,
   "metadata": {},
   "outputs": [
    {
     "data": {
      "text/html": [
       "<div>\n",
       "<style scoped>\n",
       "    .dataframe tbody tr th:only-of-type {\n",
       "        vertical-align: middle;\n",
       "    }\n",
       "\n",
       "    .dataframe tbody tr th {\n",
       "        vertical-align: top;\n",
       "    }\n",
       "\n",
       "    .dataframe thead th {\n",
       "        text-align: right;\n",
       "    }\n",
       "</style>\n",
       "<table border=\"1\" class=\"dataframe\">\n",
       "  <thead>\n",
       "    <tr style=\"text-align: right;\">\n",
       "      <th></th>\n",
       "      <th>Fare</th>\n",
       "      <th>Survived</th>\n",
       "    </tr>\n",
       "  </thead>\n",
       "  <tbody>\n",
       "    <tr>\n",
       "      <th>0</th>\n",
       "      <td>(-0.001, 7.25]</td>\n",
       "      <td>0.132530</td>\n",
       "    </tr>\n",
       "    <tr>\n",
       "      <th>1</th>\n",
       "      <td>(7.25, 7.75]</td>\n",
       "      <td>0.315789</td>\n",
       "    </tr>\n",
       "    <tr>\n",
       "      <th>2</th>\n",
       "      <td>(7.75, 7.896]</td>\n",
       "      <td>0.180723</td>\n",
       "    </tr>\n",
       "    <tr>\n",
       "      <th>3</th>\n",
       "      <td>(7.896, 8.05]</td>\n",
       "      <td>0.225806</td>\n",
       "    </tr>\n",
       "    <tr>\n",
       "      <th>4</th>\n",
       "      <td>(8.05, 10.5]</td>\n",
       "      <td>0.230769</td>\n",
       "    </tr>\n",
       "    <tr>\n",
       "      <th>5</th>\n",
       "      <td>(10.5, 13.0]</td>\n",
       "      <td>0.461538</td>\n",
       "    </tr>\n",
       "    <tr>\n",
       "      <th>6</th>\n",
       "      <td>(13.0, 15.742]</td>\n",
       "      <td>0.326531</td>\n",
       "    </tr>\n",
       "    <tr>\n",
       "      <th>7</th>\n",
       "      <td>(15.742, 23.25]</td>\n",
       "      <td>0.529412</td>\n",
       "    </tr>\n",
       "    <tr>\n",
       "      <th>8</th>\n",
       "      <td>(23.25, 26.55]</td>\n",
       "      <td>0.467532</td>\n",
       "    </tr>\n",
       "    <tr>\n",
       "      <th>9</th>\n",
       "      <td>(26.55, 34.075]</td>\n",
       "      <td>0.384615</td>\n",
       "    </tr>\n",
       "    <tr>\n",
       "      <th>10</th>\n",
       "      <td>(34.075, 56.496]</td>\n",
       "      <td>0.453333</td>\n",
       "    </tr>\n",
       "    <tr>\n",
       "      <th>11</th>\n",
       "      <td>(56.496, 83.475]</td>\n",
       "      <td>0.603175</td>\n",
       "    </tr>\n",
       "    <tr>\n",
       "      <th>12</th>\n",
       "      <td>(83.475, 512.329]</td>\n",
       "      <td>0.772727</td>\n",
       "    </tr>\n",
       "  </tbody>\n",
       "</table>\n",
       "</div>"
      ],
      "text/plain": [
       "                 Fare  Survived\n",
       "0      (-0.001, 7.25]  0.132530\n",
       "1        (7.25, 7.75]  0.315789\n",
       "2       (7.75, 7.896]  0.180723\n",
       "3       (7.896, 8.05]  0.225806\n",
       "4        (8.05, 10.5]  0.230769\n",
       "5        (10.5, 13.0]  0.461538\n",
       "6      (13.0, 15.742]  0.326531\n",
       "7     (15.742, 23.25]  0.529412\n",
       "8      (23.25, 26.55]  0.467532\n",
       "9     (26.55, 34.075]  0.384615\n",
       "10   (34.075, 56.496]  0.453333\n",
       "11   (56.496, 83.475]  0.603175\n",
       "12  (83.475, 512.329]  0.772727"
      ]
     },
     "execution_count": 33,
     "metadata": {},
     "output_type": "execute_result"
    }
   ],
   "source": [
    "df_all[['Fare', 'Survived']].groupby(['Fare'], as_index=False).mean().sort_values(by='Fare', ascending=True)"
   ]
  },
  {
   "cell_type": "markdown",
   "metadata": {},
   "source": [
    "#### Age"
   ]
  },
  {
   "cell_type": "code",
   "execution_count": 34,
   "metadata": {},
   "outputs": [
    {
     "data": {
      "text/html": [
       "<div>\n",
       "<style scoped>\n",
       "    .dataframe tbody tr th:only-of-type {\n",
       "        vertical-align: middle;\n",
       "    }\n",
       "\n",
       "    .dataframe tbody tr th {\n",
       "        vertical-align: top;\n",
       "    }\n",
       "\n",
       "    .dataframe thead th {\n",
       "        text-align: right;\n",
       "    }\n",
       "</style>\n",
       "<table border=\"1\" class=\"dataframe\">\n",
       "  <thead>\n",
       "    <tr style=\"text-align: right;\">\n",
       "      <th></th>\n",
       "      <th>Age</th>\n",
       "      <th>Embarked</th>\n",
       "      <th>Fare</th>\n",
       "      <th>Parch</th>\n",
       "      <th>PassengerId</th>\n",
       "      <th>Pclass</th>\n",
       "      <th>Sex</th>\n",
       "      <th>SibSp</th>\n",
       "      <th>Survived</th>\n",
       "    </tr>\n",
       "  </thead>\n",
       "  <tbody>\n",
       "    <tr>\n",
       "      <th>0</th>\n",
       "      <td>22.0</td>\n",
       "      <td>S</td>\n",
       "      <td>(-0.001, 7.25]</td>\n",
       "      <td>0</td>\n",
       "      <td>1</td>\n",
       "      <td>3</td>\n",
       "      <td>male</td>\n",
       "      <td>1</td>\n",
       "      <td>0.0</td>\n",
       "    </tr>\n",
       "    <tr>\n",
       "      <th>1</th>\n",
       "      <td>38.0</td>\n",
       "      <td>C</td>\n",
       "      <td>(56.496, 83.475]</td>\n",
       "      <td>0</td>\n",
       "      <td>2</td>\n",
       "      <td>1</td>\n",
       "      <td>female</td>\n",
       "      <td>1</td>\n",
       "      <td>1.0</td>\n",
       "    </tr>\n",
       "    <tr>\n",
       "      <th>2</th>\n",
       "      <td>26.0</td>\n",
       "      <td>S</td>\n",
       "      <td>(7.896, 8.05]</td>\n",
       "      <td>0</td>\n",
       "      <td>3</td>\n",
       "      <td>3</td>\n",
       "      <td>female</td>\n",
       "      <td>0</td>\n",
       "      <td>1.0</td>\n",
       "    </tr>\n",
       "    <tr>\n",
       "      <th>3</th>\n",
       "      <td>35.0</td>\n",
       "      <td>S</td>\n",
       "      <td>(34.075, 56.496]</td>\n",
       "      <td>0</td>\n",
       "      <td>4</td>\n",
       "      <td>1</td>\n",
       "      <td>female</td>\n",
       "      <td>1</td>\n",
       "      <td>1.0</td>\n",
       "    </tr>\n",
       "    <tr>\n",
       "      <th>4</th>\n",
       "      <td>35.0</td>\n",
       "      <td>S</td>\n",
       "      <td>(7.896, 8.05]</td>\n",
       "      <td>0</td>\n",
       "      <td>5</td>\n",
       "      <td>3</td>\n",
       "      <td>male</td>\n",
       "      <td>0</td>\n",
       "      <td>0.0</td>\n",
       "    </tr>\n",
       "  </tbody>\n",
       "</table>\n",
       "</div>"
      ],
      "text/plain": [
       "    Age Embarked              Fare  Parch  PassengerId  Pclass     Sex  SibSp  \\\n",
       "0  22.0        S    (-0.001, 7.25]      0            1       3    male      1   \n",
       "1  38.0        C  (56.496, 83.475]      0            2       1  female      1   \n",
       "2  26.0        S     (7.896, 8.05]      0            3       3  female      0   \n",
       "3  35.0        S  (34.075, 56.496]      0            4       1  female      1   \n",
       "4  35.0        S     (7.896, 8.05]      0            5       3    male      0   \n",
       "\n",
       "   Survived  \n",
       "0       0.0  \n",
       "1       1.0  \n",
       "2       1.0  \n",
       "3       1.0  \n",
       "4       0.0  "
      ]
     },
     "execution_count": 34,
     "metadata": {},
     "output_type": "execute_result"
    }
   ],
   "source": [
    "df_all.head()"
   ]
  },
  {
   "cell_type": "code",
   "execution_count": 35,
   "metadata": {},
   "outputs": [],
   "source": [
    "df_all['Age'] = pd.qcut(df_all['Age'], 8)"
   ]
  },
  {
   "cell_type": "code",
   "execution_count": 36,
   "metadata": {},
   "outputs": [
    {
     "data": {
      "image/png": "[encoded data removed]",
      "text/plain": [
       "<Figure size 1584x648 with 1 Axes>"
      ]
     },
     "metadata": {},
     "output_type": "display_data"
    }
   ],
   "source": [
    "fig, axs = plt.subplots(figsize=(22, 9))\n",
    "sns.countplot(x='Age', hue='Survived', data=df_all)\n",
    "\n",
    "plt.xlabel('Age', size=15, labelpad=20)\n",
    "plt.ylabel('Passenger Count', size=15, labelpad=20)\n",
    "plt.tick_params(axis='x', labelsize=15)\n",
    "plt.tick_params(axis='y', labelsize=15)\n",
    "\n",
    "plt.legend(['Not Survived', 'Survived'], loc='upper right', prop={'size': 15})\n",
    "\n",
    "plt.show()"
   ]
  },
  {
   "cell_type": "code",
   "execution_count": 37,
   "metadata": {},
   "outputs": [
    {
     "data": {
      "text/html": [
       "<div>\n",
       "<style scoped>\n",
       "    .dataframe tbody tr th:only-of-type {\n",
       "        vertical-align: middle;\n",
       "    }\n",
       "\n",
       "    .dataframe tbody tr th {\n",
       "        vertical-align: top;\n",
       "    }\n",
       "\n",
       "    .dataframe thead th {\n",
       "        text-align: right;\n",
       "    }\n",
       "</style>\n",
       "<table border=\"1\" class=\"dataframe\">\n",
       "  <thead>\n",
       "    <tr style=\"text-align: right;\">\n",
       "      <th></th>\n",
       "      <th>Age</th>\n",
       "      <th>Survived</th>\n",
       "    </tr>\n",
       "  </thead>\n",
       "  <tbody>\n",
       "    <tr>\n",
       "      <th>0</th>\n",
       "      <td>(0.169, 18.0]</td>\n",
       "      <td>0.503597</td>\n",
       "    </tr>\n",
       "    <tr>\n",
       "      <th>1</th>\n",
       "      <td>(18.0, 22.0]</td>\n",
       "      <td>0.304348</td>\n",
       "    </tr>\n",
       "    <tr>\n",
       "      <th>2</th>\n",
       "      <td>(22.0, 24.0]</td>\n",
       "      <td>0.296703</td>\n",
       "    </tr>\n",
       "    <tr>\n",
       "      <th>3</th>\n",
       "      <td>(24.0, 26.0]</td>\n",
       "      <td>0.285714</td>\n",
       "    </tr>\n",
       "    <tr>\n",
       "      <th>4</th>\n",
       "      <td>(26.0, 30.0]</td>\n",
       "      <td>0.396040</td>\n",
       "    </tr>\n",
       "    <tr>\n",
       "      <th>5</th>\n",
       "      <td>(30.0, 37.0]</td>\n",
       "      <td>0.452991</td>\n",
       "    </tr>\n",
       "    <tr>\n",
       "      <th>6</th>\n",
       "      <td>(37.0, 45.0]</td>\n",
       "      <td>0.408696</td>\n",
       "    </tr>\n",
       "    <tr>\n",
       "      <th>7</th>\n",
       "      <td>(45.0, 80.0]</td>\n",
       "      <td>0.368932</td>\n",
       "    </tr>\n",
       "  </tbody>\n",
       "</table>\n",
       "</div>"
      ],
      "text/plain": [
       "             Age  Survived\n",
       "0  (0.169, 18.0]  0.503597\n",
       "1   (18.0, 22.0]  0.304348\n",
       "2   (22.0, 24.0]  0.296703\n",
       "3   (24.0, 26.0]  0.285714\n",
       "4   (26.0, 30.0]  0.396040\n",
       "5   (30.0, 37.0]  0.452991\n",
       "6   (37.0, 45.0]  0.408696\n",
       "7   (45.0, 80.0]  0.368932"
      ]
     },
     "execution_count": 37,
     "metadata": {},
     "output_type": "execute_result"
    }
   ],
   "source": [
    "df_all[['Age', 'Survived']].groupby(['Age'], as_index=False).mean().sort_values(by='Age', ascending=True)"
   ]
  },
  {
   "cell_type": "markdown",
   "metadata": {},
   "source": [
    "### Label Encoding Non-Numerical Features"
   ]
  },
  {
   "cell_type": "code",
   "execution_count": 38,
   "metadata": {},
   "outputs": [
    {
     "data": {
      "text/html": [
       "<div>\n",
       "<style scoped>\n",
       "    .dataframe tbody tr th:only-of-type {\n",
       "        vertical-align: middle;\n",
       "    }\n",
       "\n",
       "    .dataframe tbody tr th {\n",
       "        vertical-align: top;\n",
       "    }\n",
       "\n",
       "    .dataframe thead th {\n",
       "        text-align: right;\n",
       "    }\n",
       "</style>\n",
       "<table border=\"1\" class=\"dataframe\">\n",
       "  <thead>\n",
       "    <tr style=\"text-align: right;\">\n",
       "      <th></th>\n",
       "      <th>Age</th>\n",
       "      <th>Embarked</th>\n",
       "      <th>Fare</th>\n",
       "      <th>Parch</th>\n",
       "      <th>PassengerId</th>\n",
       "      <th>Pclass</th>\n",
       "      <th>Sex</th>\n",
       "      <th>SibSp</th>\n",
       "      <th>Survived</th>\n",
       "    </tr>\n",
       "  </thead>\n",
       "  <tbody>\n",
       "    <tr>\n",
       "      <th>0</th>\n",
       "      <td>(18.0, 22.0]</td>\n",
       "      <td>S</td>\n",
       "      <td>(-0.001, 7.25]</td>\n",
       "      <td>0</td>\n",
       "      <td>1</td>\n",
       "      <td>3</td>\n",
       "      <td>male</td>\n",
       "      <td>1</td>\n",
       "      <td>0.0</td>\n",
       "    </tr>\n",
       "    <tr>\n",
       "      <th>1</th>\n",
       "      <td>(37.0, 45.0]</td>\n",
       "      <td>C</td>\n",
       "      <td>(56.496, 83.475]</td>\n",
       "      <td>0</td>\n",
       "      <td>2</td>\n",
       "      <td>1</td>\n",
       "      <td>female</td>\n",
       "      <td>1</td>\n",
       "      <td>1.0</td>\n",
       "    </tr>\n",
       "    <tr>\n",
       "      <th>2</th>\n",
       "      <td>(24.0, 26.0]</td>\n",
       "      <td>S</td>\n",
       "      <td>(7.896, 8.05]</td>\n",
       "      <td>0</td>\n",
       "      <td>3</td>\n",
       "      <td>3</td>\n",
       "      <td>female</td>\n",
       "      <td>0</td>\n",
       "      <td>1.0</td>\n",
       "    </tr>\n",
       "    <tr>\n",
       "      <th>3</th>\n",
       "      <td>(30.0, 37.0]</td>\n",
       "      <td>S</td>\n",
       "      <td>(34.075, 56.496]</td>\n",
       "      <td>0</td>\n",
       "      <td>4</td>\n",
       "      <td>1</td>\n",
       "      <td>female</td>\n",
       "      <td>1</td>\n",
       "      <td>1.0</td>\n",
       "    </tr>\n",
       "    <tr>\n",
       "      <th>4</th>\n",
       "      <td>(30.0, 37.0]</td>\n",
       "      <td>S</td>\n",
       "      <td>(7.896, 8.05]</td>\n",
       "      <td>0</td>\n",
       "      <td>5</td>\n",
       "      <td>3</td>\n",
       "      <td>male</td>\n",
       "      <td>0</td>\n",
       "      <td>0.0</td>\n",
       "    </tr>\n",
       "  </tbody>\n",
       "</table>\n",
       "</div>"
      ],
      "text/plain": [
       "            Age Embarked              Fare  Parch  PassengerId  Pclass  \\\n",
       "0  (18.0, 22.0]        S    (-0.001, 7.25]      0            1       3   \n",
       "1  (37.0, 45.0]        C  (56.496, 83.475]      0            2       1   \n",
       "2  (24.0, 26.0]        S     (7.896, 8.05]      0            3       3   \n",
       "3  (30.0, 37.0]        S  (34.075, 56.496]      0            4       1   \n",
       "4  (30.0, 37.0]        S     (7.896, 8.05]      0            5       3   \n",
       "\n",
       "      Sex  SibSp  Survived  \n",
       "0    male      1       0.0  \n",
       "1  female      1       1.0  \n",
       "2  female      0       1.0  \n",
       "3  female      1       1.0  \n",
       "4    male      0       0.0  "
      ]
     },
     "execution_count": 38,
     "metadata": {},
     "output_type": "execute_result"
    }
   ],
   "source": [
    "df_train,df_test = df_all.loc[:890], df_all.loc[891:].drop(['Survived'], axis=1)\n",
    "combine = [df_train,df_test]\n",
    "\n",
    "combine[0].head(5)"
   ]
  },
  {
   "cell_type": "code",
   "execution_count": 39,
   "metadata": {},
   "outputs": [
    {
     "name": "stdout",
     "output_type": "stream",
     "text": [
      "<class 'pandas.core.frame.DataFrame'>\n",
      "RangeIndex: 891 entries, 0 to 890\n",
      "Data columns (total 9 columns):\n",
      " #   Column       Non-Null Count  Dtype   \n",
      "---  ------       --------------  -----   \n",
      " 0   Age          891 non-null    category\n",
      " 1   Embarked     891 non-null    object  \n",
      " 2   Fare         891 non-null    category\n",
      " 3   Parch        891 non-null    int64   \n",
      " 4   PassengerId  891 non-null    int64   \n",
      " 5   Pclass       891 non-null    int64   \n",
      " 6   Sex          891 non-null    object  \n",
      " 7   SibSp        891 non-null    int64   \n",
      " 8   Survived     891 non-null    float64 \n",
      "dtypes: category(2), float64(1), int64(4), object(2)\n",
      "memory usage: 51.8+ KB\n"
     ]
    }
   ],
   "source": [
    "combine[0].info()"
   ]
  },
  {
   "cell_type": "code",
   "execution_count": 41,
   "metadata": {},
   "outputs": [],
   "source": [
    "non_numeric_features = ['Age', 'Embarked', 'Fare', 'Sex']\n",
    "\n",
    "for df in combine:\n",
    "    for feature in non_numeric_features:        \n",
    "        df[feature] = LabelEncoder().fit_transform(df[feature])"
   ]
  },
  {
   "cell_type": "code",
   "execution_count": 42,
   "metadata": {},
   "outputs": [
    {
     "data": {
      "text/html": [
       "<div>\n",
       "<style scoped>\n",
       "    .dataframe tbody tr th:only-of-type {\n",
       "        vertical-align: middle;\n",
       "    }\n",
       "\n",
       "    .dataframe tbody tr th {\n",
       "        vertical-align: top;\n",
       "    }\n",
       "\n",
       "    .dataframe thead th {\n",
       "        text-align: right;\n",
       "    }\n",
       "</style>\n",
       "<table border=\"1\" class=\"dataframe\">\n",
       "  <thead>\n",
       "    <tr style=\"text-align: right;\">\n",
       "      <th></th>\n",
       "      <th>Age</th>\n",
       "      <th>Embarked</th>\n",
       "      <th>Fare</th>\n",
       "      <th>Parch</th>\n",
       "      <th>PassengerId</th>\n",
       "      <th>Pclass</th>\n",
       "      <th>Sex</th>\n",
       "      <th>SibSp</th>\n",
       "      <th>Survived</th>\n",
       "    </tr>\n",
       "  </thead>\n",
       "  <tbody>\n",
       "    <tr>\n",
       "      <th>0</th>\n",
       "      <td>1</td>\n",
       "      <td>2</td>\n",
       "      <td>0</td>\n",
       "      <td>0</td>\n",
       "      <td>1</td>\n",
       "      <td>3</td>\n",
       "      <td>1</td>\n",
       "      <td>1</td>\n",
       "      <td>0.0</td>\n",
       "    </tr>\n",
       "    <tr>\n",
       "      <th>1</th>\n",
       "      <td>6</td>\n",
       "      <td>0</td>\n",
       "      <td>11</td>\n",
       "      <td>0</td>\n",
       "      <td>2</td>\n",
       "      <td>1</td>\n",
       "      <td>0</td>\n",
       "      <td>1</td>\n",
       "      <td>1.0</td>\n",
       "    </tr>\n",
       "    <tr>\n",
       "      <th>2</th>\n",
       "      <td>3</td>\n",
       "      <td>2</td>\n",
       "      <td>3</td>\n",
       "      <td>0</td>\n",
       "      <td>3</td>\n",
       "      <td>3</td>\n",
       "      <td>0</td>\n",
       "      <td>0</td>\n",
       "      <td>1.0</td>\n",
       "    </tr>\n",
       "    <tr>\n",
       "      <th>3</th>\n",
       "      <td>5</td>\n",
       "      <td>2</td>\n",
       "      <td>10</td>\n",
       "      <td>0</td>\n",
       "      <td>4</td>\n",
       "      <td>1</td>\n",
       "      <td>0</td>\n",
       "      <td>1</td>\n",
       "      <td>1.0</td>\n",
       "    </tr>\n",
       "    <tr>\n",
       "      <th>4</th>\n",
       "      <td>5</td>\n",
       "      <td>2</td>\n",
       "      <td>3</td>\n",
       "      <td>0</td>\n",
       "      <td>5</td>\n",
       "      <td>3</td>\n",
       "      <td>1</td>\n",
       "      <td>0</td>\n",
       "      <td>0.0</td>\n",
       "    </tr>\n",
       "  </tbody>\n",
       "</table>\n",
       "</div>"
      ],
      "text/plain": [
       "   Age  Embarked  Fare  Parch  PassengerId  Pclass  Sex  SibSp  Survived\n",
       "0    1         2     0      0            1       3    1      1       0.0\n",
       "1    6         0    11      0            2       1    0      1       1.0\n",
       "2    3         2     3      0            3       3    0      0       1.0\n",
       "3    5         2    10      0            4       1    0      1       1.0\n",
       "4    5         2     3      0            5       3    1      0       0.0"
      ]
     },
     "execution_count": 42,
     "metadata": {},
     "output_type": "execute_result"
    }
   ],
   "source": [
    "combine[0].head()"
   ]
  },
  {
   "cell_type": "code",
   "execution_count": 43,
   "metadata": {},
   "outputs": [
    {
     "name": "stdout",
     "output_type": "stream",
     "text": [
      "<class 'pandas.core.frame.DataFrame'>\n",
      "RangeIndex: 891 entries, 0 to 890\n",
      "Data columns (total 9 columns):\n",
      " #   Column       Non-Null Count  Dtype  \n",
      "---  ------       --------------  -----  \n",
      " 0   Age          891 non-null    int64  \n",
      " 1   Embarked     891 non-null    int64  \n",
      " 2   Fare         891 non-null    int64  \n",
      " 3   Parch        891 non-null    int64  \n",
      " 4   PassengerId  891 non-null    int64  \n",
      " 5   Pclass       891 non-null    int64  \n",
      " 6   Sex          891 non-null    int64  \n",
      " 7   SibSp        891 non-null    int64  \n",
      " 8   Survived     891 non-null    float64\n",
      "dtypes: float64(1), int64(8)\n",
      "memory usage: 62.8 KB\n"
     ]
    }
   ],
   "source": [
    "combine[0].info()"
   ]
  },
  {
   "cell_type": "markdown",
   "metadata": {},
   "source": [
    "### One-Hot Encoding for Nominal Categorical Features"
   ]
  },
  {
   "cell_type": "code",
   "execution_count": 44,
   "metadata": {},
   "outputs": [],
   "source": [
    "cat_features = ['Pclass', 'Sex', 'Embarked']\n",
    "encoded_features = []\n",
    "\n",
    "for df in combine:\n",
    "    for feature in cat_features:\n",
    "        encoded_feat = OneHotEncoder().fit_transform(df[feature].values.reshape(-1, 1)).toarray()\n",
    "        n = df[feature].nunique()\n",
    "        cols = ['{}_{}'.format(feature, n) for n in range(1, n + 1)]\n",
    "        encoded_df = pd.DataFrame(encoded_feat, columns=cols)\n",
    "        encoded_df.index = df.index\n",
    "        encoded_features.append(encoded_df)\n",
    "\n",
    "df_train = pd.concat([combine[0], *encoded_features[:3]], axis=1)\n",
    "df_test = pd.concat([combine[1], *encoded_features[3:]], axis=1)"
   ]
  },
  {
   "cell_type": "code",
   "execution_count": 45,
   "metadata": {},
   "outputs": [
    {
     "data": {
      "text/html": [
       "<div>\n",
       "<style scoped>\n",
       "    .dataframe tbody tr th:only-of-type {\n",
       "        vertical-align: middle;\n",
       "    }\n",
       "\n",
       "    .dataframe tbody tr th {\n",
       "        vertical-align: top;\n",
       "    }\n",
       "\n",
       "    .dataframe thead th {\n",
       "        text-align: right;\n",
       "    }\n",
       "</style>\n",
       "<table border=\"1\" class=\"dataframe\">\n",
       "  <thead>\n",
       "    <tr style=\"text-align: right;\">\n",
       "      <th></th>\n",
       "      <th>Age</th>\n",
       "      <th>Embarked</th>\n",
       "      <th>Fare</th>\n",
       "      <th>Parch</th>\n",
       "      <th>PassengerId</th>\n",
       "      <th>Pclass</th>\n",
       "      <th>Sex</th>\n",
       "      <th>SibSp</th>\n",
       "      <th>Survived</th>\n",
       "      <th>Pclass_1</th>\n",
       "      <th>Pclass_2</th>\n",
       "      <th>Pclass_3</th>\n",
       "      <th>Sex_1</th>\n",
       "      <th>Sex_2</th>\n",
       "      <th>Embarked_1</th>\n",
       "      <th>Embarked_2</th>\n",
       "      <th>Embarked_3</th>\n",
       "    </tr>\n",
       "  </thead>\n",
       "  <tbody>\n",
       "    <tr>\n",
       "      <th>0</th>\n",
       "      <td>1</td>\n",
       "      <td>2</td>\n",
       "      <td>0</td>\n",
       "      <td>0</td>\n",
       "      <td>1</td>\n",
       "      <td>3</td>\n",
       "      <td>1</td>\n",
       "      <td>1</td>\n",
       "      <td>0.0</td>\n",
       "      <td>0.0</td>\n",
       "      <td>0.0</td>\n",
       "      <td>1.0</td>\n",
       "      <td>0.0</td>\n",
       "      <td>1.0</td>\n",
       "      <td>0.0</td>\n",
       "      <td>0.0</td>\n",
       "      <td>1.0</td>\n",
       "    </tr>\n",
       "    <tr>\n",
       "      <th>1</th>\n",
       "      <td>6</td>\n",
       "      <td>0</td>\n",
       "      <td>11</td>\n",
       "      <td>0</td>\n",
       "      <td>2</td>\n",
       "      <td>1</td>\n",
       "      <td>0</td>\n",
       "      <td>1</td>\n",
       "      <td>1.0</td>\n",
       "      <td>1.0</td>\n",
       "      <td>0.0</td>\n",
       "      <td>0.0</td>\n",
       "      <td>1.0</td>\n",
       "      <td>0.0</td>\n",
       "      <td>1.0</td>\n",
       "      <td>0.0</td>\n",
       "      <td>0.0</td>\n",
       "    </tr>\n",
       "    <tr>\n",
       "      <th>2</th>\n",
       "      <td>3</td>\n",
       "      <td>2</td>\n",
       "      <td>3</td>\n",
       "      <td>0</td>\n",
       "      <td>3</td>\n",
       "      <td>3</td>\n",
       "      <td>0</td>\n",
       "      <td>0</td>\n",
       "      <td>1.0</td>\n",
       "      <td>0.0</td>\n",
       "      <td>0.0</td>\n",
       "      <td>1.0</td>\n",
       "      <td>1.0</td>\n",
       "      <td>0.0</td>\n",
       "      <td>0.0</td>\n",
       "      <td>0.0</td>\n",
       "      <td>1.0</td>\n",
       "    </tr>\n",
       "    <tr>\n",
       "      <th>3</th>\n",
       "      <td>5</td>\n",
       "      <td>2</td>\n",
       "      <td>10</td>\n",
       "      <td>0</td>\n",
       "      <td>4</td>\n",
       "      <td>1</td>\n",
       "      <td>0</td>\n",
       "      <td>1</td>\n",
       "      <td>1.0</td>\n",
       "      <td>1.0</td>\n",
       "      <td>0.0</td>\n",
       "      <td>0.0</td>\n",
       "      <td>1.0</td>\n",
       "      <td>0.0</td>\n",
       "      <td>0.0</td>\n",
       "      <td>0.0</td>\n",
       "      <td>1.0</td>\n",
       "    </tr>\n",
       "    <tr>\n",
       "      <th>4</th>\n",
       "      <td>5</td>\n",
       "      <td>2</td>\n",
       "      <td>3</td>\n",
       "      <td>0</td>\n",
       "      <td>5</td>\n",
       "      <td>3</td>\n",
       "      <td>1</td>\n",
       "      <td>0</td>\n",
       "      <td>0.0</td>\n",
       "      <td>0.0</td>\n",
       "      <td>0.0</td>\n",
       "      <td>1.0</td>\n",
       "      <td>0.0</td>\n",
       "      <td>1.0</td>\n",
       "      <td>0.0</td>\n",
       "      <td>0.0</td>\n",
       "      <td>1.0</td>\n",
       "    </tr>\n",
       "  </tbody>\n",
       "</table>\n",
       "</div>"
      ],
      "text/plain": [
       "   Age  Embarked  Fare  Parch  PassengerId  Pclass  Sex  SibSp  Survived  \\\n",
       "0    1         2     0      0            1       3    1      1       0.0   \n",
       "1    6         0    11      0            2       1    0      1       1.0   \n",
       "2    3         2     3      0            3       3    0      0       1.0   \n",
       "3    5         2    10      0            4       1    0      1       1.0   \n",
       "4    5         2     3      0            5       3    1      0       0.0   \n",
       "\n",
       "   Pclass_1  Pclass_2  Pclass_3  Sex_1  Sex_2  Embarked_1  Embarked_2  \\\n",
       "0       0.0       0.0       1.0    0.0    1.0         0.0         0.0   \n",
       "1       1.0       0.0       0.0    1.0    0.0         1.0         0.0   \n",
       "2       0.0       0.0       1.0    1.0    0.0         0.0         0.0   \n",
       "3       1.0       0.0       0.0    1.0    0.0         0.0         0.0   \n",
       "4       0.0       0.0       1.0    0.0    1.0         0.0         0.0   \n",
       "\n",
       "   Embarked_3  \n",
       "0         1.0  \n",
       "1         0.0  \n",
       "2         1.0  \n",
       "3         1.0  \n",
       "4         1.0  "
      ]
     },
     "execution_count": 45,
     "metadata": {},
     "output_type": "execute_result"
    }
   ],
   "source": [
    "df_train.head()"
   ]
  },
  {
   "cell_type": "code",
   "execution_count": 46,
   "metadata": {},
   "outputs": [
    {
     "data": {
      "text/html": [
       "<div>\n",
       "<style scoped>\n",
       "    .dataframe tbody tr th:only-of-type {\n",
       "        vertical-align: middle;\n",
       "    }\n",
       "\n",
       "    .dataframe tbody tr th {\n",
       "        vertical-align: top;\n",
       "    }\n",
       "\n",
       "    .dataframe thead th {\n",
       "        text-align: right;\n",
       "    }\n",
       "</style>\n",
       "<table border=\"1\" class=\"dataframe\">\n",
       "  <thead>\n",
       "    <tr style=\"text-align: right;\">\n",
       "      <th></th>\n",
       "      <th>Age</th>\n",
       "      <th>Embarked</th>\n",
       "      <th>Fare</th>\n",
       "      <th>Parch</th>\n",
       "      <th>PassengerId</th>\n",
       "      <th>Pclass</th>\n",
       "      <th>Sex</th>\n",
       "      <th>SibSp</th>\n",
       "      <th>Pclass_1</th>\n",
       "      <th>Pclass_2</th>\n",
       "      <th>Pclass_3</th>\n",
       "      <th>Sex_1</th>\n",
       "      <th>Sex_2</th>\n",
       "      <th>Embarked_1</th>\n",
       "      <th>Embarked_2</th>\n",
       "      <th>Embarked_3</th>\n",
       "    </tr>\n",
       "  </thead>\n",
       "  <tbody>\n",
       "    <tr>\n",
       "      <th>891</th>\n",
       "      <td>5</td>\n",
       "      <td>1</td>\n",
       "      <td>2</td>\n",
       "      <td>0</td>\n",
       "      <td>892</td>\n",
       "      <td>3</td>\n",
       "      <td>1</td>\n",
       "      <td>0</td>\n",
       "      <td>0.0</td>\n",
       "      <td>0.0</td>\n",
       "      <td>1.0</td>\n",
       "      <td>0.0</td>\n",
       "      <td>1.0</td>\n",
       "      <td>0.0</td>\n",
       "      <td>1.0</td>\n",
       "      <td>0.0</td>\n",
       "    </tr>\n",
       "    <tr>\n",
       "      <th>892</th>\n",
       "      <td>7</td>\n",
       "      <td>2</td>\n",
       "      <td>0</td>\n",
       "      <td>0</td>\n",
       "      <td>893</td>\n",
       "      <td>3</td>\n",
       "      <td>0</td>\n",
       "      <td>1</td>\n",
       "      <td>0.0</td>\n",
       "      <td>0.0</td>\n",
       "      <td>1.0</td>\n",
       "      <td>1.0</td>\n",
       "      <td>0.0</td>\n",
       "      <td>0.0</td>\n",
       "      <td>0.0</td>\n",
       "      <td>1.0</td>\n",
       "    </tr>\n",
       "    <tr>\n",
       "      <th>893</th>\n",
       "      <td>7</td>\n",
       "      <td>1</td>\n",
       "      <td>4</td>\n",
       "      <td>0</td>\n",
       "      <td>894</td>\n",
       "      <td>2</td>\n",
       "      <td>1</td>\n",
       "      <td>0</td>\n",
       "      <td>0.0</td>\n",
       "      <td>1.0</td>\n",
       "      <td>0.0</td>\n",
       "      <td>0.0</td>\n",
       "      <td>1.0</td>\n",
       "      <td>0.0</td>\n",
       "      <td>1.0</td>\n",
       "      <td>0.0</td>\n",
       "    </tr>\n",
       "    <tr>\n",
       "      <th>894</th>\n",
       "      <td>4</td>\n",
       "      <td>2</td>\n",
       "      <td>4</td>\n",
       "      <td>0</td>\n",
       "      <td>895</td>\n",
       "      <td>3</td>\n",
       "      <td>1</td>\n",
       "      <td>0</td>\n",
       "      <td>0.0</td>\n",
       "      <td>0.0</td>\n",
       "      <td>1.0</td>\n",
       "      <td>0.0</td>\n",
       "      <td>1.0</td>\n",
       "      <td>0.0</td>\n",
       "      <td>0.0</td>\n",
       "      <td>1.0</td>\n",
       "    </tr>\n",
       "    <tr>\n",
       "      <th>895</th>\n",
       "      <td>1</td>\n",
       "      <td>2</td>\n",
       "      <td>5</td>\n",
       "      <td>1</td>\n",
       "      <td>896</td>\n",
       "      <td>3</td>\n",
       "      <td>0</td>\n",
       "      <td>1</td>\n",
       "      <td>0.0</td>\n",
       "      <td>0.0</td>\n",
       "      <td>1.0</td>\n",
       "      <td>1.0</td>\n",
       "      <td>0.0</td>\n",
       "      <td>0.0</td>\n",
       "      <td>0.0</td>\n",
       "      <td>1.0</td>\n",
       "    </tr>\n",
       "  </tbody>\n",
       "</table>\n",
       "</div>"
      ],
      "text/plain": [
       "     Age  Embarked  Fare  Parch  PassengerId  Pclass  Sex  SibSp  Pclass_1  \\\n",
       "891    5         1     2      0          892       3    1      0       0.0   \n",
       "892    7         2     0      0          893       3    0      1       0.0   \n",
       "893    7         1     4      0          894       2    1      0       0.0   \n",
       "894    4         2     4      0          895       3    1      0       0.0   \n",
       "895    1         2     5      1          896       3    0      1       0.0   \n",
       "\n",
       "     Pclass_2  Pclass_3  Sex_1  Sex_2  Embarked_1  Embarked_2  Embarked_3  \n",
       "891       0.0       1.0    0.0    1.0         0.0         1.0         0.0  \n",
       "892       0.0       1.0    1.0    0.0         0.0         0.0         1.0  \n",
       "893       1.0       0.0    0.0    1.0         0.0         1.0         0.0  \n",
       "894       0.0       1.0    0.0    1.0         0.0         0.0         1.0  \n",
       "895       0.0       1.0    1.0    0.0         0.0         0.0         1.0  "
      ]
     },
     "execution_count": 46,
     "metadata": {},
     "output_type": "execute_result"
    }
   ],
   "source": [
    "df_test.head()"
   ]
  },
  {
   "cell_type": "markdown",
   "metadata": {},
   "source": [
    "# Conclusion"
   ]
  },
  {
   "cell_type": "code",
   "execution_count": 47,
   "metadata": {},
   "outputs": [
    {
     "data": {
      "text/html": [
       "<div>\n",
       "<style scoped>\n",
       "    .dataframe tbody tr th:only-of-type {\n",
       "        vertical-align: middle;\n",
       "    }\n",
       "\n",
       "    .dataframe tbody tr th {\n",
       "        vertical-align: top;\n",
       "    }\n",
       "\n",
       "    .dataframe thead th {\n",
       "        text-align: right;\n",
       "    }\n",
       "</style>\n",
       "<table border=\"1\" class=\"dataframe\">\n",
       "  <thead>\n",
       "    <tr style=\"text-align: right;\">\n",
       "      <th></th>\n",
       "      <th>Age</th>\n",
       "      <th>Embarked_1</th>\n",
       "      <th>Embarked_2</th>\n",
       "      <th>Embarked_3</th>\n",
       "      <th>Fare</th>\n",
       "      <th>Parch</th>\n",
       "      <th>Pclass_1</th>\n",
       "      <th>Pclass_2</th>\n",
       "      <th>Pclass_3</th>\n",
       "      <th>Sex_1</th>\n",
       "      <th>Sex_2</th>\n",
       "      <th>SibSp</th>\n",
       "    </tr>\n",
       "  </thead>\n",
       "  <tbody>\n",
       "    <tr>\n",
       "      <th>0</th>\n",
       "      <td>1</td>\n",
       "      <td>0.0</td>\n",
       "      <td>0.0</td>\n",
       "      <td>1.0</td>\n",
       "      <td>0</td>\n",
       "      <td>0</td>\n",
       "      <td>0.0</td>\n",
       "      <td>0.0</td>\n",
       "      <td>1.0</td>\n",
       "      <td>0.0</td>\n",
       "      <td>1.0</td>\n",
       "      <td>1</td>\n",
       "    </tr>\n",
       "    <tr>\n",
       "      <th>1</th>\n",
       "      <td>6</td>\n",
       "      <td>1.0</td>\n",
       "      <td>0.0</td>\n",
       "      <td>0.0</td>\n",
       "      <td>11</td>\n",
       "      <td>0</td>\n",
       "      <td>1.0</td>\n",
       "      <td>0.0</td>\n",
       "      <td>0.0</td>\n",
       "      <td>1.0</td>\n",
       "      <td>0.0</td>\n",
       "      <td>1</td>\n",
       "    </tr>\n",
       "    <tr>\n",
       "      <th>2</th>\n",
       "      <td>3</td>\n",
       "      <td>0.0</td>\n",
       "      <td>0.0</td>\n",
       "      <td>1.0</td>\n",
       "      <td>3</td>\n",
       "      <td>0</td>\n",
       "      <td>0.0</td>\n",
       "      <td>0.0</td>\n",
       "      <td>1.0</td>\n",
       "      <td>1.0</td>\n",
       "      <td>0.0</td>\n",
       "      <td>0</td>\n",
       "    </tr>\n",
       "    <tr>\n",
       "      <th>3</th>\n",
       "      <td>5</td>\n",
       "      <td>0.0</td>\n",
       "      <td>0.0</td>\n",
       "      <td>1.0</td>\n",
       "      <td>10</td>\n",
       "      <td>0</td>\n",
       "      <td>1.0</td>\n",
       "      <td>0.0</td>\n",
       "      <td>0.0</td>\n",
       "      <td>1.0</td>\n",
       "      <td>0.0</td>\n",
       "      <td>1</td>\n",
       "    </tr>\n",
       "    <tr>\n",
       "      <th>4</th>\n",
       "      <td>5</td>\n",
       "      <td>0.0</td>\n",
       "      <td>0.0</td>\n",
       "      <td>1.0</td>\n",
       "      <td>3</td>\n",
       "      <td>0</td>\n",
       "      <td>0.0</td>\n",
       "      <td>0.0</td>\n",
       "      <td>1.0</td>\n",
       "      <td>0.0</td>\n",
       "      <td>1.0</td>\n",
       "      <td>0</td>\n",
       "    </tr>\n",
       "  </tbody>\n",
       "</table>\n",
       "</div>"
      ],
      "text/plain": [
       "   Age  Embarked_1  Embarked_2  Embarked_3  Fare  Parch  Pclass_1  Pclass_2  \\\n",
       "0    1         0.0         0.0         1.0     0      0       0.0       0.0   \n",
       "1    6         1.0         0.0         0.0    11      0       1.0       0.0   \n",
       "2    3         0.0         0.0         1.0     3      0       0.0       0.0   \n",
       "3    5         0.0         0.0         1.0    10      0       1.0       0.0   \n",
       "4    5         0.0         0.0         1.0     3      0       0.0       0.0   \n",
       "\n",
       "   Pclass_3  Sex_1  Sex_2  SibSp  \n",
       "0       1.0    0.0    1.0      1  \n",
       "1       0.0    1.0    0.0      1  \n",
       "2       1.0    1.0    0.0      0  \n",
       "3       0.0    1.0    0.0      1  \n",
       "4       1.0    0.0    1.0      0  "
      ]
     },
     "execution_count": 47,
     "metadata": {},
     "output_type": "execute_result"
    }
   ],
   "source": [
    "df_all = pd.concat([df_train, df_test], sort=True).reset_index(drop=True)\n",
    "drop_columns = ['Embarked','Pclass','Sex','PassengerId','Survived']\n",
    "df_all.drop(columns=drop_columns,inplace=True)\n",
    "df_all.head()"
   ]
  },
  {
   "cell_type": "markdown",
   "metadata": {},
   "source": [
    "# Model"
   ]
  },
  {
   "cell_type": "code",
   "execution_count": 48,
   "metadata": {},
   "outputs": [
    {
     "name": "stdout",
     "output_type": "stream",
     "text": [
      "X_train shape: (891, 12)\n",
      "y_train shape: (891,)\n",
      "X_test shape: (418, 12)\n"
     ]
    }
   ],
   "source": [
    "y_train = df_train['Survived'].values\n",
    "X_train = StandardScaler().fit_transform(df_train.drop(columns=drop_columns))\n",
    "X_test = StandardScaler().fit_transform(df_test.drop(columns=['Embarked','Pclass','Sex','PassengerId']))\n",
    "\n",
    "print(\"X_train shape: {}\".format(X_train.shape))\n",
    "print(\"y_train shape: {}\".format(y_train.shape))\n",
    "print(\"X_test shape: {}\".format(X_test.shape))"
   ]
  },
  {
   "cell_type": "markdown",
   "metadata": {},
   "source": [
    "## Logistic Regression"
   ]
  },
  {
   "cell_type": "code",
   "execution_count": 49,
   "metadata": {},
   "outputs": [
    {
     "data": {
      "text/plain": [
       "81.03"
      ]
     },
     "execution_count": 49,
     "metadata": {},
     "output_type": "execute_result"
    }
   ],
   "source": [
    "from sklearn.linear_model import LogisticRegression\n",
    "log_reg = LogisticRegression()\n",
    "log_reg.fit(X_train,y_train)\n",
    "acc_log = round(log_reg.score(X_train,y_train) * 100,2)\n",
    "acc_log"
   ]
  },
  {
   "cell_type": "markdown",
   "metadata": {},
   "source": [
    "## SVM"
   ]
  },
  {
   "cell_type": "code",
   "execution_count": 50,
   "metadata": {},
   "outputs": [
    {
     "data": {
      "text/plain": [
       "82.83"
      ]
     },
     "execution_count": 50,
     "metadata": {},
     "output_type": "execute_result"
    }
   ],
   "source": [
    "from sklearn.svm import SVC\n",
    "svc = SVC()\n",
    "svc.fit(X_train,y_train)\n",
    "acc_svc = round(svc.score(X_train,y_train) * 100,2)\n",
    "acc_svc"
   ]
  },
  {
   "cell_type": "markdown",
   "metadata": {},
   "source": [
    "## KNN"
   ]
  },
  {
   "cell_type": "code",
   "execution_count": 51,
   "metadata": {},
   "outputs": [
    {
     "data": {
      "text/plain": [
       "86.42"
      ]
     },
     "execution_count": 51,
     "metadata": {},
     "output_type": "execute_result"
    }
   ],
   "source": [
    "from sklearn.neighbors import KNeighborsClassifier\n",
    "knn = KNeighborsClassifier(n_neighbors=3)\n",
    "knn.fit(X_train,y_train)\n",
    "acc_knn = round(knn.score(X_train,y_train)*100,2)\n",
    "acc_knn"
   ]
  },
  {
   "cell_type": "markdown",
   "metadata": {},
   "source": [
    "## Decision Tree"
   ]
  },
  {
   "cell_type": "code",
   "execution_count": 52,
   "metadata": {},
   "outputs": [
    {
     "data": {
      "text/plain": [
       "92.03"
      ]
     },
     "execution_count": 52,
     "metadata": {},
     "output_type": "execute_result"
    }
   ],
   "source": [
    "from sklearn.tree import DecisionTreeClassifier\n",
    "dt = DecisionTreeClassifier()\n",
    "dt.fit(X_train,y_train)\n",
    "acc_decision_tree = round(dt.score(X_train,y_train) * 100,2)\n",
    "acc_decision_tree"
   ]
  },
  {
   "cell_type": "markdown",
   "metadata": {},
   "source": [
    "## Random Forest"
   ]
  },
  {
   "cell_type": "code",
   "execution_count": 53,
   "metadata": {},
   "outputs": [
    {
     "data": {
      "text/plain": [
       "92.03"
      ]
     },
     "execution_count": 53,
     "metadata": {},
     "output_type": "execute_result"
    }
   ],
   "source": [
    "from sklearn.ensemble import RandomForestClassifier\n",
    "rf = RandomForestClassifier()\n",
    "rf.fit(X_train,y_train)\n",
    "rf.score(X_train,y_train)\n",
    "score = round(rf.score(X_train,y_train) * 100,2)\n",
    "score"
   ]
  },
  {
   "cell_type": "markdown",
   "metadata": {},
   "source": [
    "# HyperParameter Optimization"
   ]
  },
  {
   "cell_type": "code",
   "execution_count": 54,
   "metadata": {},
   "outputs": [],
   "source": [
    "from sklearn.model_selection import RandomizedSearchCV\n",
    "\n",
    "# Number of trees in random forest\n",
    "n_estimators = [int(x) for x in np.linspace(start = 200, stop = 2000, num = 10)]\n",
    "# Number of features to consider at every split\n",
    "max_features = ['auto', 'sqrt']\n",
    "# Maximum number of levels in tree\n",
    "max_depth = [int(x) for x in np.linspace(10, 110, num = 11)]\n",
    "max_depth.append(None)\n",
    "# Minimum number of samples required to split a node\n",
    "min_samples_split = [2,3,4,5,6,7,8]\n",
    "# Minimum number of samples required at each leaf node\n",
    "min_samples_leaf = [1, 2,3,4,5,6,7,8]\n",
    "\n",
    "params_dict = {'n_estimators': n_estimators, 'max_features': max_features, 'max_depth':max_depth,\n",
    "                'min_samples_split': min_samples_split, 'min_samples_leaf':min_samples_leaf}\n",
    "\n",
    "random_search_model = RandomizedSearchCV(rf,params_dict,n_iter=100,n_jobs=-1,verbose=2)\n",
    "model_tuned = random_search_model.fit(X_train,y_train)"
   ]
  },
  {
   "cell_type": "code",
   "execution_count": 55,
   "metadata": {},
   "outputs": [],
   "source": [
    "model_tuned.best_params_"
   ]
  },
  {
   "cell_type": "code",
   "execution_count": 56,
   "metadata": {},
   "outputs": [
    {
     "data": {
      "text/plain": [
       "87.88"
      ]
     },
     "execution_count": 56,
     "metadata": {},
     "output_type": "execute_result"
    }
   ],
   "source": [
    "from sklearn.ensemble import RandomForestClassifier\n",
    "rf_tuned = RandomForestClassifier(n_estimators=1600,min_samples_split=6,min_samples_leaf=2,max_features=\"auto\",max_depth=70)\n",
    "rf_tuned.fit(X_train,y_train)\n",
    "rf_tuned.score(X_train,y_train)\n",
    "score = round(rf_tuned.score(X_train,y_train) * 100,2)\n",
    "score"
   ]
  },
  {
   "cell_type": "markdown",
   "metadata": {},
   "source": [
    "## ROC CURVE"
   ]
  },
  {
   "cell_type": "code",
   "execution_count": 57,
   "metadata": {},
   "outputs": [
    {
     "data": {
      "text/plain": [
       "0.9461461029623238"
      ]
     },
     "execution_count": 57,
     "metadata": {},
     "output_type": "execute_result"
    }
   ],
   "source": [
    "from sklearn.metrics import roc_curve, auc\n",
    "trn_fpr, trn_tpr, trn_thresholds = roc_curve(y_train,rf_tuned.predict_proba(X_train)[:,1])\n",
    "auc_score = auc(trn_fpr,trn_tpr)\n",
    "auc_score"
   ]
  },
  {
   "cell_type": "markdown",
   "metadata": {},
   "source": [
    "# Stratified K-Fold Cross Validation"
   ]
  },
  {
   "cell_type": "code",
   "execution_count": 64,
   "metadata": {},
   "outputs": [
    {
     "name": "stdout",
     "output_type": "stream",
     "text": [
      "Fold:  1\n",
      "Val Score:  0.8357707509881422\n",
      "Fold:  2\n",
      "Val Score:  0.8937834224598932\n",
      "Fold:  3\n",
      "Val Score:  0.8649732620320856\n",
      "Fold:  4\n",
      "Val Score:  0.8709893048128342\n",
      "Fold:  5\n",
      "Val Score:  0.8659087887249035\n"
     ]
    }
   ],
   "source": [
    "from sklearn.model_selection import StratifiedKFold\n",
    "\n",
    "N = 5\n",
    "importances = pd.DataFrame(np.zeros((X_train.shape[1], N)), columns=['Fold_{}'.format(i) for i in range(1, N + 1)], index=df_all.columns)\n",
    "skf = StratifiedKFold(n_splits=5,random_state=5,shuffle=True)\n",
    "\n",
    "for fold,(train_index,val_index) in enumerate(skf.split(X_train,y_train)):\n",
    "    print('Fold: ',fold +1)\n",
    "\n",
    "    rf_tuned.fit(X_train[train_index],y_train[train_index])\n",
    "\n",
    "    val_fpr, val_tpr, val_thresholds = roc_curve(y_train[val_index],rf_tuned.predict_proba(X_train[val_index])[:,1])\n",
    "    val_auc_score = auc(val_fpr, val_tpr)\n",
    "    \n",
    "    importances.iloc[:, fold - 1] = rf.feature_importances_\n",
    "\n",
    "    print(\"Val Score: \",val_auc_score)\n"
   ]
  },
  {
   "cell_type": "markdown",
   "metadata": {},
   "source": [
    "# Feature Importance"
   ]
  },
  {
   "cell_type": "code",
   "execution_count": 67,
   "metadata": {},
   "outputs": [
    {
     "data": {
      "image/png": "[encoded data removed]",
      "text/plain": [
       "<Figure size 1080x1440 with 1 Axes>"
      ]
     },
     "metadata": {},
     "output_type": "display_data"
    }
   ],
   "source": [
    "importances['Mean_Importance'] = importances.mean(axis=1)\n",
    "importances.sort_values(by='Mean_Importance', inplace=True, ascending=False)\n",
    "\n",
    "plt.figure(figsize=(15, 20))\n",
    "sns.barplot(x='Mean_Importance', y=importances.index, data=importances)\n",
    "\n",
    "plt.xlabel('')\n",
    "plt.title('Random Forest Classifier Mean Feature Importance Between Folds', size=15)\n",
    "\n",
    "plt.show()"
   ]
  },
  {
   "cell_type": "markdown",
   "metadata": {},
   "source": [
    "# Ensemble Learning"
   ]
  },
  {
   "cell_type": "code",
   "execution_count": 61,
   "metadata": {},
   "outputs": [
    {
     "data": {
      "text/plain": [
       "0.856341189674523"
      ]
     },
     "execution_count": 61,
     "metadata": {},
     "output_type": "execute_result"
    }
   ],
   "source": [
    "from sklearn.ensemble import VotingClassifier\n",
    "\n",
    "ensemble_model = VotingClassifier(estimators=[('svc',svc),('log_reg',log_reg),('knn',knn),('rf',rf)],voting = \"hard\")\n",
    "ensemble_model.fit(X_train,y_train)\n",
    "ensemble_model.score(X_train,y_train)\n"
   ]
  },
  {
   "cell_type": "code",
   "execution_count": 62,
   "metadata": {},
   "outputs": [],
   "source": [
    "test_df = pd.read_csv(\"dataset/titanic/test.csv\")\n",
    "y_pred = ensemble_model.predict(X_test)\n",
    "submission = pd.DataFrame({\n",
    "        \"PassengerId\": test_df[\"PassengerId\"],\n",
    "        \"Survived\": y_pred.astype(np.int64)\n",
    "    })\n",
    "\n",
    "#submission.to_csv('./submission.csv', index=False)"
   ]
  }
 ],
 "metadata": {
  "interpreter": {
   "hash": "916dbcbb3f70747c44a77c7bcd40155683ae19c65e1c03b4aa3499c5328201f1"
  },
  "kernelspec": {
   "display_name": "Python 3.8.10 64-bit",
   "language": "python",
   "name": "python3"
  },
  "language_info": {
   "codemirror_mode": {
    "name": "ipython",
    "version": 3
   },
   "file_extension": ".py",
   "mimetype": "text/x-python",
   "name": "python",
   "nbconvert_exporter": "python",
   "pygments_lexer": "ipython3",
   "version": "3.8.10"
  },
  "orig_nbformat": 4
 },
 "nbformat": 4,
 "nbformat_minor": 2
}
