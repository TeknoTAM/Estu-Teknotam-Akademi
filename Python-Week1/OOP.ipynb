{
 "cells": [
  {
   "cell_type": "markdown",
   "metadata": {},
   "source": [
    "# Object Oriented Programming in Python\n",
    "- Encapsulation \n",
    "- Inheritance\n",
    "- Polymorphism\n",
    "- Abstraction"
   ]
  },
  {
   "cell_type": "code",
   "execution_count": 2,
   "metadata": {},
   "outputs": [
    {
     "name": "stdout",
     "output_type": "stream",
     "text": [
      "Ahmet is working on NLP\n"
     ]
    }
   ],
   "source": [
    "class Employee:\n",
    "    \n",
    "    # constructor\n",
    "    def __init__(self,name,salary,project):\n",
    "        # data members\n",
    "        self.name = name\n",
    "        self.salary = salary\n",
    "        self.project = project\n",
    "    \n",
    "    # method\n",
    "    def work(self):\n",
    "        print(self.name, 'is working on', self.project)\n",
    "\n",
    "if __name__ == \"__main__\":\n",
    "    # create object of class\n",
    "    emp = Employee('Ahmet', 8000, 'NLP')\n",
    "    emp2 = Employee('Burak',3000,\"Deep Learning\")\n",
    "\n",
    "    # calling public method o\n",
    "    # f the class\n",
    "\n",
    "    emp2.work()\n"
   ]
  },
  {
   "cell_type": "markdown",
   "metadata": {},
   "source": [
    "### Encapsulation\n",
    "\n",
    "Access Modifiers in Python\n",
    "\n",
    "- <b>Public Member:</b>            Accessible anywhere from outside of class.\n",
    "- <b>Protected Member</b>:         Accessible within the class and its sub-classes.\n",
    "- <b> Private Member</b>:          Accessible within the class."
   ]
  },
  {
   "cell_type": "code",
   "execution_count": 6,
   "metadata": {},
   "outputs": [
    {
     "name": "stdout",
     "output_type": "stream",
     "text": [
      "Name:  Ahmet\n",
      "Salary:  3000\n",
      "New salary:  5000\n"
     ]
    }
   ],
   "source": [
    "class Employee:\n",
    "    def __init__(self,name,salary,project):\n",
    "        self.name = name # public member\n",
    "        self._project = project # protected member\n",
    "        self.__salary = salary # private member\n",
    "\n",
    "    def get_salary(self):\n",
    "        return self.__salary\n",
    "\n",
    "    def set_salary(self,new_salary):\n",
    "        self.__salary = new_salary\n",
    "\n",
    "if __name__ == \"__main__\":\n",
    "    #create object \n",
    "    emp = Employee('Ahmet', 3000, \"Deep Learning\")\n",
    "\n",
    "\n",
    "\n",
    "    # accessing public data members\n",
    "    print(\"Name: \",emp.name)\n",
    "\n",
    "    # if attempt accessing privated data member without class, throw out error\n",
    "    #print(\"Salary: \",emp.__salary)\n",
    "\n",
    "    # public method to access private members\n",
    "    print(\"Salary: \",emp.get_salary())\n",
    "\n",
    "    # public method to set private members\n",
    "    emp.set_salary(5000)\n",
    "    print(\"New salary: \",emp.get_salary())\n",
    "\n",
    "\n"
   ]
  },
  {
   "cell_type": "markdown",
   "metadata": {},
   "source": [
    "### Inheritance\n",
    "\n",
    "- In Python, super() has two major use cases:\n",
    "    - Allows us to avoid using the base class name explicitly\n",
    "    - Working with Multiple Inheritance\n",
    "\n",
    "\n",
    "- Method Overriding in inheritance"
   ]
  },
  {
   "cell_type": "code",
   "execution_count": 8,
   "metadata": {},
   "outputs": [
    {
     "name": "stdout",
     "output_type": "stream",
     "text": [
      "Employee name:  Ahmet\n",
      "Working on project:  Deep Learning\n"
     ]
    }
   ],
   "source": [
    "# base class\n",
    "class Company:\n",
    "    def __init__(self,project_name):\n",
    "        self._project = project_name\n",
    "        self.foundation_year = 2012\n",
    "\n",
    "# child class\n",
    "class Employee(Company):\n",
    "    def __init__(self,name,salary,project_name):\n",
    "        self.name = name\n",
    "        self.salary = salary\n",
    "        #Company.__init__(self,project_name)\n",
    "        super().__init__(project_name) # call superclass\n",
    "\n",
    "    def show(self):\n",
    "        print(\"Employee name: \",self.name)\n",
    "        # accessing protected member in child class\n",
    "        print(\"Working on project: \",self._project)\n",
    "\n",
    "if __name__ == \"__main__\":\n",
    "    c = Employee(\"Ahmet\", 3000,\"Deep Learning\")\n",
    "    c.show()\n"
   ]
  },
  {
   "cell_type": "code",
   "execution_count": 9,
   "metadata": {},
   "outputs": [
    {
     "name": "stdout",
     "output_type": "stream",
     "text": [
      "Dog cannot fly\n",
      "Dog cannot swim\n",
      "Dog is a mammal\n"
     ]
    }
   ],
   "source": [
    "\"\"\"Multiple Inheritance with super()\"\"\"\n",
    "\n",
    "class Mammal():\n",
    "    def __init__(self, name):\n",
    "        print(name, \"is a mammal\")\n",
    "         \n",
    "\n",
    "class canFly(Mammal):\n",
    "    def __init__(self, canFly_name):\n",
    "        print(canFly_name, \"cannot fly\")\n",
    "        # Calling Parent class constructor\n",
    "        super().__init__(canFly_name)\n",
    "             \n",
    "class canSwim(Mammal):   \n",
    "    def __init__(self, canSwim_name):\n",
    "        print(canSwim_name, \"cannot swim\")\n",
    "        super().__init__(canSwim_name)\n",
    "         \n",
    "class Animal(canFly, canSwim):\n",
    "    def __init__(self, name):\n",
    "        # Calling the constructor of both parent class\n",
    "        # canSwim.__init__(self,name)\n",
    "        # canFly.__init__(self,name)\n",
    "        super().__init__(name)\n",
    "\n",
    "if __name__ == \"__main__\":\n",
    "    a = Animal(\"Dog\")"
   ]
  },
  {
   "cell_type": "markdown",
   "metadata": {},
   "source": [
    "### Polymorphism"
   ]
  },
  {
   "cell_type": "code",
   "execution_count": 6,
   "metadata": {},
   "outputs": [
    {
     "name": "stdout",
     "output_type": "stream",
     "text": [
      "Details: Red 20000\n",
      "Car max speed is 240\n",
      "Details: white 75000\n",
      "Vehicle max speed is 150\n"
     ]
    }
   ],
   "source": [
    "# Polymorphism With Inheritance\n",
    "class Vehicle:\n",
    "\n",
    "    def __init__(self, color, price):\n",
    "        self.color = color\n",
    "        self.price = price\n",
    "\n",
    "    def show(self):\n",
    "        print('Details:', self.color, self.price)\n",
    "\n",
    "    def max_speed(self):\n",
    "        print('Vehicle max speed is 150')\n",
    "\n",
    "class Car(Vehicle):\n",
    "    def __init__(self,model, color, price):\n",
    "        self.model = model\n",
    "        super().__init__(color, price)\n",
    "\n",
    "    def max_speed(self):\n",
    "        print('Car max speed is 240')\n",
    "\n",
    "if __name__ == \"__main__\":\n",
    "\n",
    "    # Car object\n",
    "    car = Car(\"Ford\",\"Red\",20000)\n",
    "    car.show()\n",
    "    car.max_speed() #call methods from Car class\n",
    "\n",
    "    # Vehicle object\n",
    "    vehicle = Vehicle('white',75000)\n",
    "    vehicle.show()\n",
    "    vehicle.max_speed()\n"
   ]
  },
  {
   "cell_type": "code",
   "execution_count": 11,
   "metadata": {},
   "outputs": [
    {
     "name": "stdout",
     "output_type": "stream",
     "text": [
      "4\n"
     ]
    }
   ],
   "source": [
    "# Override built-in function\n",
    "class Sale:\n",
    "    def __init__(self,product,sales_person):\n",
    "        self.products = product\n",
    "        self.sales_person = sales_person\n",
    "\n",
    "    def __len__(self):\n",
    "        count = len(self.products)\n",
    "        return count\n",
    "\n",
    "if __name__ == \"__main__\":\n",
    "\n",
    "    # a = 'estü'\n",
    "    # print(len(a))\n",
    "\n",
    "    sale_1 = Sale(['shoe','dress'],\"Ahmet\")\n",
    "    print(len(sale_1))"
   ]
  },
  {
   "cell_type": "markdown",
   "metadata": {},
   "source": [
    "### Abstraction\n",
    "\n",
    "- An abstract class is a class, you won't be able to instantiate an abstract class that has abstract methods.\n",
    "- Its purpose is to define how other classes should look like, i.e. what methods and properties they are expected to have."
   ]
  },
  {
   "cell_type": "code",
   "execution_count": 12,
   "metadata": {},
   "outputs": [
    {
     "name": "stdout",
     "output_type": "stream",
     "text": [
      "Triangle has 3 sides.\n",
      "Square has 4 sides.\n"
     ]
    },
    {
     "ename": "TypeError",
     "evalue": "Can't instantiate abstract class Base with abstract methods draw, print_sides",
     "output_type": "error",
     "traceback": [
      "\u001b[0;31m---------------------------------------------------------------------------\u001b[0m",
      "\u001b[0;31mTypeError\u001b[0m                                 Traceback (most recent call last)",
      "\u001b[1;32m/home/burak/Estü-Teknotam/week1/OOP.ipynb Cell 12'\u001b[0m in \u001b[0;36m<cell line: 31>\u001b[0;34m()\u001b[0m\n\u001b[1;32m     <a href='vscode-notebook-cell:/home/burak/Est%C3%BC-Teknotam/week1/OOP.ipynb#ch0000011?line=35'>36</a>\u001b[0m s\u001b[39m.\u001b[39mprint_sides()\n\u001b[1;32m     <a href='vscode-notebook-cell:/home/burak/Est%C3%BC-Teknotam/week1/OOP.ipynb#ch0000011?line=37'>38</a>\u001b[0m \u001b[39m# comment sides method in Triangle, see what is happened\u001b[39;00m\n\u001b[0;32m---> <a href='vscode-notebook-cell:/home/burak/Est%C3%BC-Teknotam/week1/OOP.ipynb#ch0000011?line=38'>39</a>\u001b[0m p \u001b[39m=\u001b[39m Base()\n",
      "\u001b[0;31mTypeError\u001b[0m: Can't instantiate abstract class Base with abstract methods draw, print_sides"
     ]
    }
   ],
   "source": [
    "from abc import ABC, abstractmethod\n",
    "\n",
    "# abstract base class\n",
    "class Base(ABC):   \n",
    "   # abstract method   \n",
    "    @abstractmethod\n",
    "    def print_sides(self):   \n",
    "        pass\n",
    "    \n",
    "    @abstractmethod\n",
    "    def draw(self):\n",
    "        pass\n",
    "\n",
    "\n",
    "\n",
    "class Triangle(Base):  \n",
    "    def print_sides(self):   \n",
    "        print(\"Triangle has 3 sides.\")  \n",
    "\n",
    "    def draw(self):\n",
    "        print(\"Draw functions implement\")\n",
    "\n",
    "class Square(Base):\n",
    "    def print_sides(self):\n",
    "        print(\"Square has 4 sides.\")\n",
    "\n",
    "    def draw(self):\n",
    "        print(\"Draw functions implement\")\n",
    "\n",
    "\n",
    "if __name__ == \"__main__\":\n",
    "    t = Triangle()\n",
    "    t.print_sides()\n",
    "\n",
    "    s = Square()\n",
    "    s.print_sides()\n",
    "\n",
    "    # comment sides method in Triangle, see what is happened\n",
    "    p = Base() # throw an error\n",
    "    #p.print_sides()"
   ]
  },
  {
   "cell_type": "code",
   "execution_count": null,
   "metadata": {},
   "outputs": [],
   "source": [
    "\"\"\" Python 3.0+ \"\"\"\n",
    "from abc import ABCMeta,abstractmethod\n",
    "\n",
    "class Base(metaclass=ABCMeta):\n",
    "    @abstractmethod\n",
    "    def print_sides(self):\n",
    "        pass\n",
    "    @abstractmethod\n",
    "    def draw(self):\n",
    "        pass\n",
    "    \n",
    "\"\"\" Python 2 \"\"\"\n",
    "from abc import ABCMeta, abstractmethod\n",
    "\n",
    "class Base:\n",
    "    __metaclass__ = ABCMeta\n",
    "\n",
    "    @abstractmethod\n",
    "    def print_sides(self):\n",
    "        pass\n",
    "    @abstractmethod\n",
    "    def draw(self):\n",
    "        pass\n",
    "\n",
    "\"\"\" Python 3.4+ \"\"\"\n",
    "from abc import ABC, abstractmethod\n",
    "class Base(ABC):   \n",
    "   # abstract method   \n",
    "    @abstractmethod\n",
    "    def print_sides(self):   \n",
    "        pass  \n",
    "    @abstractmethod\n",
    "    def draw(self):\n",
    "        pass\n"
   ]
  },
  {
   "cell_type": "markdown",
   "metadata": {},
   "source": [
    "# Different Method Types in Classes\n",
    "- Static methods, much like class methods, are methods that are bound to a class rather than its object.\n",
    "- They do not require a class instance creation. So, they are not dependent on the state of the object.\n",
    "- Difference between class method and static method: A classmethod will receive the class itself as the first argument, while a staticmethod does not.\n"
   ]
  },
  {
   "cell_type": "code",
   "execution_count": 13,
   "metadata": {},
   "outputs": [
    {
     "name": "stdout",
     "output_type": "stream",
     "text": [
      "The sum is:  15\n"
     ]
    }
   ],
   "source": [
    "class Mathematics:\n",
    "    def addNumbers(x,y):\n",
    "        return x+y\n",
    "\n",
    "    addNumbers = staticmethod(addNumbers)\n",
    "\n",
    "\n",
    "\n",
    "print('The sum is: ',Mathematics.addNumbers(10,5))"
   ]
  },
  {
   "cell_type": "code",
   "execution_count": 14,
   "metadata": {},
   "outputs": [
    {
     "name": "stdout",
     "output_type": "stream",
     "text": [
      "Total numbers of animal:  0\n"
     ]
    }
   ],
   "source": [
    "class Animal:\n",
    "    counter = 0 #class variable\n",
    "\n",
    "    def __init__(self, name):\n",
    "        self.name = name #self.name is an instance variable\n",
    "        Animal.counter += 1\n",
    "\n",
    "    def getDate(self):\n",
    "        return self.date\n",
    "\n",
    "    @staticmethod\n",
    "    def getCount():\n",
    "        print(\"Total numbers of animal: \",Animal.counter)\n",
    "\n",
    "    #getCount = staticmethod(getCount)\n",
    "\n",
    "#Animal.counter\n",
    "Animal.getCount()\n"
   ]
  },
  {
   "cell_type": "code",
   "execution_count": 28,
   "metadata": {},
   "outputs": [
    {
     "name": "stdout",
     "output_type": "stream",
     "text": [
      "Ingredients:  ['mozzarella', 'tomatoes', 'cheese']\n"
     ]
    }
   ],
   "source": [
    "# Dont Repeat Yourself(DRY) principle\n",
    "class Pizza:\n",
    "    def __init__(self, ingredients):\n",
    "        self.ingredients = ingredients\n",
    "\n",
    "    def print(self):\n",
    "        print(\"Ingredients: \",self.ingredients)\n",
    "\n",
    "    @classmethod\n",
    "    def margherita(cls,extra):\n",
    "        return cls(['mozzarella', 'tomatoes',extra])\n",
    "\n",
    "    @classmethod\n",
    "    def prosciutto(cls):\n",
    "        return cls(['mozzarella', 'tomatoes', 'ham'])\n",
    "\n",
    "\n",
    "#a = Pizza(['mozzarella', 'tomatoes','cheese']) # cls(['mozzarella', 'tomatoes',extra])\n",
    "a = Pizza.margherita(\"cheese\")\n",
    "# a = Pizza([\"mozzerella\",\"tomatoes\"])\n",
    "a.print()"
   ]
  },
  {
   "cell_type": "markdown",
   "metadata": {},
   "source": [
    "# Lambda Functions"
   ]
  },
  {
   "cell_type": "code",
   "execution_count": 15,
   "metadata": {},
   "outputs": [
    {
     "name": "stdout",
     "output_type": "stream",
     "text": [
      "12\n"
     ]
    }
   ],
   "source": [
    "x = lambda a : a + 10\n",
    "\n",
    "print(x(2))"
   ]
  },
  {
   "cell_type": "code",
   "execution_count": 30,
   "metadata": {},
   "outputs": [
    {
     "name": "stdout",
     "output_type": "stream",
     "text": [
      "44\n",
      "22\n"
     ]
    }
   ],
   "source": [
    "# why we use lambda functions\n",
    "\n",
    "def add(n):\n",
    "  return lambda a : a * n\n",
    "\n",
    "\n",
    "if __name__ == \"__main__\":\n",
    "    mydoubler = add(2)\n",
    "    mul_four = add(4)\n",
    "    print(mul_four(11))\n",
    "    print(mydoubler(11))"
   ]
  }
 ],
 "metadata": {
  "interpreter": {
   "hash": "916dbcbb3f70747c44a77c7bcd40155683ae19c65e1c03b4aa3499c5328201f1"
  },
  "kernelspec": {
   "display_name": "Python 3.8.10 64-bit",
   "language": "python",
   "name": "python3"
  },
  "language_info": {
   "codemirror_mode": {
    "name": "ipython",
    "version": 3
   },
   "file_extension": ".py",
   "mimetype": "text/x-python",
   "name": "python",
   "nbconvert_exporter": "python",
   "pygments_lexer": "ipython3",
   "version": "3.8.10"
  },
  "orig_nbformat": 4
 },
 "nbformat": 4,
 "nbformat_minor": 2
}
